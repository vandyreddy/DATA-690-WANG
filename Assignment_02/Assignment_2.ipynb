{
 "cells": [
  {
   "cell_type": "code",
   "execution_count": 1,
   "metadata": {},
   "outputs": [
    {
     "name": "stdout",
     "output_type": "stream",
     "text": [
      "enter integer12\n",
      "the integer you have entered 0 is 12\n",
      "enter integer23\n",
      "the integer you have entered 1 is 23\n",
      "enter integer21\n",
      "the integer you have entered 2 is 21\n",
      "enter integer34\n",
      "the integer you have entered 3 is 34\n",
      "enter integer56\n",
      "the integer you have entered 4 is 56\n",
      "enter integer77\n",
      "the integer you have entered 5 is 77\n",
      "enter integer89\n",
      "the integer you have entered 6 is 89\n",
      "enter integer12\n",
      "the integer you have entered 7 is 12\n",
      "enter integer34\n",
      "the integer you have entered 8 is 34\n",
      "enter integer45\n",
      "the integer you have entered 9 is 45\n",
      "The list is [12, 23, 21, 34, 56, 77, 89, 12, 34, 45]\n"
     ]
    }
   ],
   "source": [
    "x=[]\n",
    "for i in range (0,10):\n",
    "    y=input(\"enter integer\")\n",
    "    x.append(int(y))\n",
    "    print(f\"the integer you have entered {i} is\",y)\n",
    "print(\"The list is\",x)\n"
   ]
  },
  {
   "cell_type": "code",
   "execution_count": 2,
   "metadata": {},
   "outputs": [
    {
     "name": "stdout",
     "output_type": "stream",
     "text": [
      "The minimum value is 12\n"
     ]
    }
   ],
   "source": [
    "#minimum of the element \n",
    "min=x[0]\n",
    "for a in x:\n",
    "    if a<min:\n",
    "        min=a\n",
    "print(\"The minimum value is\",min)"
   ]
  },
  {
   "cell_type": "code",
   "execution_count": 3,
   "metadata": {},
   "outputs": [
    {
     "name": "stdout",
     "output_type": "stream",
     "text": [
      "The maximum value is 89\n"
     ]
    }
   ],
   "source": [
    "#maximum of the element\n",
    "max=x[0]\n",
    "for a in x:\n",
    "    if a > max:\n",
    "        max=a\n",
    "print(\"The maximum value is\",max)\n"
   ]
  },
  {
   "cell_type": "code",
   "execution_count": 4,
   "metadata": {},
   "outputs": [
    {
     "name": "stdout",
     "output_type": "stream",
     "text": [
      "the range value is 77\n"
     ]
    }
   ],
   "source": [
    "# range of the elements\n",
    "range = max - min\n",
    "print(\"the range value is\",range)"
   ]
  },
  {
   "cell_type": "code",
   "execution_count": 5,
   "metadata": {},
   "outputs": [
    {
     "name": "stdout",
     "output_type": "stream",
     "text": [
      "The mean value is 40.3\n"
     ]
    }
   ],
   "source": [
    "# mean of elements\n",
    "mean= sum(x)/len(x)\n",
    "print('The mean value is', mean)\n"
   ]
  },
  {
   "cell_type": "code",
   "execution_count": 6,
   "metadata": {},
   "outputs": [
    {
     "name": "stdout",
     "output_type": "stream",
     "text": [
      "The variance is 634.01\n"
     ]
    }
   ],
   "source": [
    "#Variance of elements\n",
    "dev = [(z - mean) ** 2 for z in x]\n",
    "var = sum(dev) / len(x)\n",
    "print(\"The variance is\",var)\n"
   ]
  },
  {
   "cell_type": "code",
   "execution_count": 7,
   "metadata": {},
   "outputs": [
    {
     "name": "stdout",
     "output_type": "stream",
     "text": [
      "The standard deviation is  25.17955519861302\n"
     ]
    }
   ],
   "source": [
    "#Standard Deviation of elements\n",
    "a=(var)**0.5\n",
    "print(\"The standard deviation is \",a)"
   ]
  },
  {
   "cell_type": "code",
   "execution_count": null,
   "metadata": {},
   "outputs": [],
   "source": []
  }
 ],
 "metadata": {
  "kernelspec": {
   "display_name": "Python 3",
   "language": "python",
   "name": "python3"
  },
  "language_info": {
   "codemirror_mode": {
    "name": "ipython",
    "version": 3
   },
   "file_extension": ".py",
   "mimetype": "text/x-python",
   "name": "python",
   "nbconvert_exporter": "python",
   "pygments_lexer": "ipython3",
   "version": "3.7.6"
  }
 },
 "nbformat": 4,
 "nbformat_minor": 4
}
