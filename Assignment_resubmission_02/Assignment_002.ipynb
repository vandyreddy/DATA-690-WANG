{
 "cells": [
  {
   "cell_type": "code",
   "execution_count": 1,
   "metadata": {},
   "outputs": [
    {
     "name": "stdout",
     "output_type": "stream",
     "text": [
      "enter any integer:12\n",
      "the integer you have entered 0 is 12\n",
      "enter any integer:34\n",
      "the integer you have entered 1 is 34\n",
      "enter any integer:@\n",
      "Only integers are allowed,please retry\n",
      "enter any integer:rt\n",
      "Only integers are allowed,please retry\n",
      "enter any integer:5\n",
      "the integer you have entered 2 is 5\n",
      "enter any integer:6\n",
      "the integer you have entered 3 is 6\n",
      "enter any integer:7\n",
      "the integer you have entered 4 is 7\n",
      "enter any integer:89\n",
      "the integer you have entered 5 is 89\n",
      "enter any integer:90\n",
      "the integer you have entered 6 is 90\n",
      "enter any integer:1\n",
      "the integer you have entered 7 is 1\n",
      "enter any integer:4\n",
      "the integer you have entered 8 is 4\n",
      "enter any integer:5\n",
      "the integer you have entered 9 is 5\n",
      "Total list:  [12, 34, 5, 6, 7, 89, 90, 1, 4, 5]\n"
     ]
    }
   ],
   "source": [
    "#Prompting 10 users from the user\n",
    "x=[]\n",
    "for i in range(0, 10): # iteration through range \n",
    "    while i >= 0:\n",
    "        try:\n",
    "            user_input = input(\"enter any integer:\") #Accepting user from input \n",
    "            user_input_list=int(user_input) # check weather the input is integer or not \n",
    "            print(f\"the integer you have entered {i} is\",user_input_list)#printing the integer user has entered \n",
    "            break # if input is int,it breaks loop,add to list\n",
    "        except:\n",
    "            print(\"Only integers are allowed,please retry\") # if input is wrong,exception is raised  \n",
    "        \n",
    "    x.append(user_input_list) # appending elements into the user_input_list\n",
    "    \n",
    "print(\"Total list: \", x)#printing the total list "
   ]
  },
  {
   "cell_type": "code",
   "execution_count": 2,
   "metadata": {},
   "outputs": [
    {
     "name": "stdout",
     "output_type": "stream",
     "text": [
      "The minimum value is 1\n"
     ]
    }
   ],
   "source": [
    "# minimum number  \n",
    "minimum_element=x[0]\n",
    "for number in x:\n",
    "    if number<minimum_element:#checking if the number is less than the initialized minimum element \n",
    "         minimum_element=number #checking for the condition and initializing the number for minimum number\n",
    "print(\"The minimum value is\",minimum_element)"
   ]
  },
  {
   "cell_type": "code",
   "execution_count": 3,
   "metadata": {},
   "outputs": [
    {
     "name": "stdout",
     "output_type": "stream",
     "text": [
      "The maximum value is 90\n"
     ]
    }
   ],
   "source": [
    "#maximum number\n",
    "maximum_element=x[0]\n",
    "for number in x:\n",
    "    if number > maximum_element:#checking if the number is greater than the initialized minimum element \n",
    "        maximum_element=number#checking for the condition and initializing the number for maximum number\n",
    "print(\"The maximum value is\",maximum_element)\n"
   ]
  },
  {
   "cell_type": "code",
   "execution_count": 4,
   "metadata": {},
   "outputs": [
    {
     "name": "stdout",
     "output_type": "stream",
     "text": [
      "the range value is 89\n"
     ]
    }
   ],
   "source": [
    "# range \n",
    "range_numbers = maximum_element - minimum_element#subtracting maximum number that has been found above with the minimum number \n",
    "print(\"the range value is\",range_numbers)#printing the range value "
   ]
  },
  {
   "cell_type": "code",
   "execution_count": 5,
   "metadata": {},
   "outputs": [
    {
     "name": "stdout",
     "output_type": "stream",
     "text": [
      "The mean value is 25.3\n"
     ]
    }
   ],
   "source": [
    "# mean\n",
    "mean_elements= sum(x)/len(x)#dividing sum of numbers from the list to the length of the list \n",
    "print('The mean value is', mean_elements)#printing the value\n"
   ]
  },
  {
   "cell_type": "code",
   "execution_count": 6,
   "metadata": {},
   "outputs": [
    {
     "name": "stdout",
     "output_type": "stream",
     "text": [
      "The variance is 1107.2100000000003\n"
     ]
    }
   ],
   "source": [
    "#Variance\n",
    "deviation = [(z - mean_elements) ** 2 for z in x]\n",
    "variance = sum(deviation) / len(x)\n",
    "print(\"The variance is\",variance)\n"
   ]
  },
  {
   "cell_type": "code",
   "execution_count": 7,
   "metadata": {},
   "outputs": [
    {
     "name": "stdout",
     "output_type": "stream",
     "text": [
      "The standard deviation is  33.2747652132964\n"
     ]
    }
   ],
   "source": [
    "#Standard Deviation \n",
    "std_deviation=(variance)**0.5#multiplying 0.5 with variance value found above \n",
    "print(\"The standard deviation is \",std_deviation)#printing variance value "
   ]
  }
 ],
 "metadata": {
  "kernelspec": {
   "display_name": "Python 3",
   "language": "python",
   "name": "python3"
  },
  "language_info": {
   "codemirror_mode": {
    "name": "ipython",
    "version": 3
   },
   "file_extension": ".py",
   "mimetype": "text/x-python",
   "name": "python",
   "nbconvert_exporter": "python",
   "pygments_lexer": "ipython3",
   "version": "3.7.6"
  }
 },
 "nbformat": 4,
 "nbformat_minor": 4
}
