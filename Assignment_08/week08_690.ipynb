{
  "cells": [
    {
      "cell_type": "code",
      "metadata": {
        "tags": [],
        "cell_id": "00000-4a79b53b-5b76-456f-927c-6918a516c467",
        "deepnote_to_be_reexecuted": false,
        "source_hash": "54bc4efc",
        "execution_millis": 2,
        "execution_start": 1618799247334,
        "deepnote_cell_type": "code"
      },
      "source": "# 1 - Import necessary libraries\nimport os\nimport pandas as pd\nimport random\nimport matplotlib.pyplot as plt\n",
      "execution_count": 7,
      "outputs": []
    },
    {
      "cell_type": "code",
      "metadata": {
        "tags": [],
        "cell_id": "00001-3aa959c3-a452-4cd7-a549-ce70b6f491e7",
        "deepnote_to_be_reexecuted": false,
        "source_hash": "c7a688e4",
        "execution_millis": 9,
        "execution_start": 1618799250108,
        "deepnote_cell_type": "code"
      },
      "source": "# 2 - Retrieve the names of the 22 files and assign them to a List variable\n# You would need to filter out other files\n# Display the names of these 22 files\ncurrfold = os.getcwd()\nprint(currfold)",
      "execution_count": 8,
      "outputs": [
        {
          "name": "stdout",
          "text": "/work\n",
          "output_type": "stream"
        }
      ]
    },
    {
      "cell_type": "code",
      "metadata": {
        "tags": [],
        "cell_id": "00002-1b5b1601-21b0-4975-8adf-1f98cb4496fd",
        "deepnote_to_be_reexecuted": false,
        "source_hash": "f4d94298",
        "execution_millis": 15,
        "execution_start": 1618799252790,
        "deepnote_cell_type": "code"
      },
      "source": "# 3 - Write code to randomly select one file name out of the 22 files names. \n# Hint: generate a random integer between 0 and 21 first\n# Display the file name\nfile_list = os.listdir()\nfile_list",
      "execution_count": 9,
      "outputs": [
        {
          "output_type": "execute_result",
          "execution_count": 9,
          "data": {
            "text/plain": "['.deepnote', 'data', 'week08_690.ipynb', 'init.ipynb']"
          },
          "metadata": {}
        }
      ]
    },
    {
      "cell_type": "code",
      "metadata": {
        "tags": [],
        "cell_id": "00003-cfe7fcfa-6743-4b72-8b22-20bf01c2dae0",
        "deepnote_to_be_reexecuted": false,
        "source_hash": "e08385a3",
        "execution_millis": 25,
        "execution_start": 1618799255607,
        "deepnote_cell_type": "code"
      },
      "source": "file_list = os.listdir(\"/work/data/Raw Data Files\")\nfile_list",
      "execution_count": 10,
      "outputs": [
        {
          "output_type": "execute_result",
          "execution_count": 10,
          "data": {
            "text/plain": "['MERGED2016_17_PP.csv',\n 'MERGED2008_09_PP.csv',\n 'MERGED2009_10_PP.csv',\n 'MERGED2001_02_PP.csv',\n 'MERGED2017_18_PP.csv',\n 'MERGED2014_15_PP.csv',\n 'MERGED2005_06_PP.csv',\n 'MERGED2003_04_PP.csv',\n 'MERGED1998_99_PP.csv',\n 'MERGED2010_11_PP.csv',\n 'FieldOfStudyData1415_1516_PP.csv',\n 'FieldOfStudyData1617_1718_PP.csv',\n 'MERGED2012_13_PP.csv',\n 'MERGED1999_00_PP.csv',\n 'FieldOfStudyData1516_1617_PP.csv',\n 'MERGED2006_07_PP.csv',\n 'MERGED2018_19_PP.csv',\n 'MERGED2011_12_PP.csv',\n 'data.yaml',\n 'MERGED2007_08_PP.csv',\n 'MERGED2004_05_PP.csv',\n 'Crosswalks.zip',\n 'MERGED2015_16_PP.csv',\n 'MERGED1996_97_PP.csv',\n 'MERGED2013_14_PP.csv',\n 'MERGED2000_01_PP.csv',\n 'Most-Recent-Cohorts-Field-of-Study.csv',\n 'MERGED2002_03_PP.csv',\n 'Most-Recent-Cohorts-All-Data-Elements.csv',\n 'MERGED1997_98_PP.csv']"
          },
          "metadata": {}
        }
      ]
    },
    {
      "cell_type": "code",
      "metadata": {
        "tags": [],
        "cell_id": "00004-9aec029b-87e7-412b-b1ad-f77f0760b208",
        "deepnote_to_be_reexecuted": false,
        "source_hash": "8420c280",
        "execution_millis": 2,
        "execution_start": 1618799258898,
        "deepnote_cell_type": "code"
      },
      "source": "\nran= random.randint(0,21)\nran_file=file_list[ran]\nprint(ran_file)",
      "execution_count": 11,
      "outputs": [
        {
          "name": "stdout",
          "text": "MERGED2010_11_PP.csv\n",
          "output_type": "stream"
        }
      ]
    },
    {
      "cell_type": "code",
      "metadata": {
        "tags": [],
        "cell_id": "00005-4cc65b78-feea-4e58-a0d4-b64547228ed5",
        "deepnote_to_be_reexecuted": false,
        "source_hash": "3617a8dd",
        "execution_millis": 1968,
        "execution_start": 1618799262041,
        "deepnote_cell_type": "code"
      },
      "source": "# 4 - Only read the two columns: college name (INSTNM) and in state tution (\"TUITIONFEE_IN\")\n\npath = \"./data/Raw Data Files/\"+str(ran_file)\ndf = pd.read_csv(path,usecols=[\"TUITIONFEE_IN\",\"INSTNM\"])\ndf.head()",
      "execution_count": 12,
      "outputs": [
        {
          "output_type": "execute_result",
          "execution_count": 12,
          "data": {
            "application/vnd.deepnote.dataframe.v2+json": {
              "row_count": 5,
              "column_count": 2,
              "columns": [
                {
                  "name": "INSTNM",
                  "dtype": "object",
                  "stats": {
                    "unique_count": 5,
                    "nan_count": 0,
                    "categories": [
                      {
                        "name": "Community College of the Air Force",
                        "count": 1
                      },
                      {
                        "name": "Alabama A & M University",
                        "count": 1
                      },
                      {
                        "name": "3 others",
                        "count": 3
                      }
                    ]
                  }
                },
                {
                  "name": "TUITIONFEE_IN",
                  "dtype": "float64",
                  "stats": {
                    "unique_count": 4,
                    "nan_count": 1,
                    "min": "5800.0",
                    "max": "8360.0",
                    "histogram": [
                      {
                        "bin_start": 5800,
                        "bin_end": 6056,
                        "count": 2
                      },
                      {
                        "bin_start": 6056,
                        "bin_end": 6312,
                        "count": 0
                      },
                      {
                        "bin_start": 6312,
                        "bin_end": 6568,
                        "count": 0
                      },
                      {
                        "bin_start": 6568,
                        "bin_end": 6824,
                        "count": 0
                      },
                      {
                        "bin_start": 6824,
                        "bin_end": 7080,
                        "count": 0
                      },
                      {
                        "bin_start": 7080,
                        "bin_end": 7336,
                        "count": 0
                      },
                      {
                        "bin_start": 7336,
                        "bin_end": 7592,
                        "count": 1
                      },
                      {
                        "bin_start": 7592,
                        "bin_end": 7848,
                        "count": 0
                      },
                      {
                        "bin_start": 7848,
                        "bin_end": 8104,
                        "count": 0
                      },
                      {
                        "bin_start": 8104,
                        "bin_end": 8360,
                        "count": 1
                      }
                    ]
                  }
                },
                {
                  "name": "_deepnote_index_column",
                  "dtype": "int64"
                }
              ],
              "rows_top": [
                {
                  "INSTNM": "Community College of the Air Force",
                  "TUITIONFEE_IN": "nan",
                  "_deepnote_index_column": 0
                },
                {
                  "INSTNM": "Alabama A & M University",
                  "TUITIONFEE_IN": "5800.0",
                  "_deepnote_index_column": 1
                },
                {
                  "INSTNM": "University of Alabama at Birmingham",
                  "TUITIONFEE_IN": "5806.0",
                  "_deepnote_index_column": 2
                },
                {
                  "INSTNM": "Amridge University",
                  "TUITIONFEE_IN": "8360.0",
                  "_deepnote_index_column": 3
                },
                {
                  "INSTNM": "University of Alabama in Huntsville",
                  "TUITIONFEE_IN": "7492.0",
                  "_deepnote_index_column": 4
                }
              ],
              "rows_bottom": null
            },
            "text/plain": "                                INSTNM  TUITIONFEE_IN\n0   Community College of the Air Force            NaN\n1             Alabama A & M University         5800.0\n2  University of Alabama at Birmingham         5806.0\n3                   Amridge University         8360.0\n4  University of Alabama in Huntsville         7492.0",
            "text/html": "<div>\n<style scoped>\n    .dataframe tbody tr th:only-of-type {\n        vertical-align: middle;\n    }\n\n    .dataframe tbody tr th {\n        vertical-align: top;\n    }\n\n    .dataframe thead th {\n        text-align: right;\n    }\n</style>\n<table border=\"1\" class=\"dataframe\">\n  <thead>\n    <tr style=\"text-align: right;\">\n      <th></th>\n      <th>INSTNM</th>\n      <th>TUITIONFEE_IN</th>\n    </tr>\n  </thead>\n  <tbody>\n    <tr>\n      <th>0</th>\n      <td>Community College of the Air Force</td>\n      <td>NaN</td>\n    </tr>\n    <tr>\n      <th>1</th>\n      <td>Alabama A &amp; M University</td>\n      <td>5800.0</td>\n    </tr>\n    <tr>\n      <th>2</th>\n      <td>University of Alabama at Birmingham</td>\n      <td>5806.0</td>\n    </tr>\n    <tr>\n      <th>3</th>\n      <td>Amridge University</td>\n      <td>8360.0</td>\n    </tr>\n    <tr>\n      <th>4</th>\n      <td>University of Alabama in Huntsville</td>\n      <td>7492.0</td>\n    </tr>\n  </tbody>\n</table>\n</div>"
          },
          "metadata": {}
        }
      ]
    },
    {
      "cell_type": "code",
      "metadata": {
        "tags": [],
        "cell_id": "00006-3e87b773-efb9-46d7-a933-6b3d0970d50f",
        "deepnote_to_be_reexecuted": false,
        "source_hash": "b220c26",
        "execution_millis": 23,
        "execution_start": 1618799268390,
        "deepnote_cell_type": "code"
      },
      "source": "# from this file into a data frame and display use info() function to display a summary information\r\n\r\ndf.info()",
      "execution_count": 13,
      "outputs": [
        {
          "name": "stdout",
          "text": "<class 'pandas.core.frame.DataFrame'>\nRangeIndex: 7470 entries, 0 to 7469\nData columns (total 2 columns):\n #   Column         Non-Null Count  Dtype  \n---  ------         --------------  -----  \n 0   INSTNM         7470 non-null   object \n 1   TUITIONFEE_IN  4337 non-null   float64\ndtypes: float64(1), object(1)\nmemory usage: 116.8+ KB\n",
          "output_type": "stream"
        }
      ]
    },
    {
      "cell_type": "code",
      "metadata": {
        "tags": [],
        "cell_id": "00007-3a010307-1c79-4bea-8ea0-3f4249a48c88",
        "deepnote_to_be_reexecuted": false,
        "source_hash": "36c1c5a0",
        "execution_millis": 12,
        "execution_start": 1618799271572,
        "deepnote_cell_type": "code"
      },
      "source": "# 5 - Find out how many observations have missing value.\n\nmissing_value=df.isna().sum()\nmissing_value",
      "execution_count": 14,
      "outputs": [
        {
          "output_type": "execute_result",
          "execution_count": 14,
          "data": {
            "text/plain": "INSTNM              0\nTUITIONFEE_IN    3133\ndtype: int64"
          },
          "metadata": {}
        }
      ]
    },
    {
      "cell_type": "code",
      "metadata": {
        "tags": [],
        "cell_id": "00008-277a9060-22e7-4561-b6d3-5f00dee68b46",
        "deepnote_to_be_reexecuted": false,
        "source_hash": "3c4522b8",
        "execution_millis": 91,
        "execution_start": 1618799274366,
        "deepnote_cell_type": "code"
      },
      "source": "# 6 - Drop those observations with missing value\n# Disaply the number of observations afterward\ndf=df.dropna()\ndf",
      "execution_count": 15,
      "outputs": [
        {
          "output_type": "execute_result",
          "execution_count": 15,
          "data": {
            "application/vnd.deepnote.dataframe.v2+json": {
              "row_count": 4337,
              "column_count": 2,
              "columns": [
                {
                  "name": "INSTNM",
                  "dtype": "object",
                  "stats": {
                    "unique_count": 4278,
                    "nan_count": 0,
                    "categories": [
                      {
                        "name": "McCann School of Business & Technology",
                        "count": 6
                      },
                      {
                        "name": "Bryan University",
                        "count": 4
                      },
                      {
                        "name": "4276 others",
                        "count": 4327
                      }
                    ]
                  }
                },
                {
                  "name": "TUITIONFEE_IN",
                  "dtype": "float64",
                  "stats": {
                    "unique_count": 2921,
                    "nan_count": 0,
                    "min": "0.0",
                    "max": "48000.0",
                    "histogram": [
                      {
                        "bin_start": 0,
                        "bin_end": 4800,
                        "count": 1162
                      },
                      {
                        "bin_start": 4800,
                        "bin_end": 9600,
                        "count": 800
                      },
                      {
                        "bin_start": 9600,
                        "bin_end": 14400,
                        "count": 860
                      },
                      {
                        "bin_start": 14400,
                        "bin_end": 19200,
                        "count": 654
                      },
                      {
                        "bin_start": 19200,
                        "bin_end": 24000,
                        "count": 281
                      },
                      {
                        "bin_start": 24000,
                        "bin_end": 28800,
                        "count": 242
                      },
                      {
                        "bin_start": 28800,
                        "bin_end": 33600,
                        "count": 159
                      },
                      {
                        "bin_start": 33600,
                        "bin_end": 38400,
                        "count": 83
                      },
                      {
                        "bin_start": 38400,
                        "bin_end": 43200,
                        "count": 92
                      },
                      {
                        "bin_start": 43200,
                        "bin_end": 48000,
                        "count": 4
                      }
                    ]
                  }
                },
                {
                  "name": "_deepnote_index_column",
                  "dtype": "int64"
                }
              ],
              "rows_top": [
                {
                  "INSTNM": "Alabama A & M University",
                  "TUITIONFEE_IN": 5800,
                  "_deepnote_index_column": 1
                },
                {
                  "INSTNM": "University of Alabama at Birmingham",
                  "TUITIONFEE_IN": 5806,
                  "_deepnote_index_column": 2
                },
                {
                  "INSTNM": "Amridge University",
                  "TUITIONFEE_IN": 8360,
                  "_deepnote_index_column": 3
                },
                {
                  "INSTNM": "University of Alabama in Huntsville",
                  "TUITIONFEE_IN": 7492,
                  "_deepnote_index_column": 4
                },
                {
                  "INSTNM": "Alabama State University",
                  "TUITIONFEE_IN": 7164,
                  "_deepnote_index_column": 5
                },
                {
                  "INSTNM": "The University of Alabama",
                  "TUITIONFEE_IN": 7900,
                  "_deepnote_index_column": 6
                },
                {
                  "INSTNM": "Central Alabama Community College",
                  "TUITIONFEE_IN": 3270,
                  "_deepnote_index_column": 7
                },
                {
                  "INSTNM": "Auburn University at Montgomery",
                  "TUITIONFEE_IN": 6620,
                  "_deepnote_index_column": 9
                },
                {
                  "INSTNM": "Auburn University",
                  "TUITIONFEE_IN": 7900,
                  "_deepnote_index_column": 10
                },
                {
                  "INSTNM": "Birmingham-Southern College",
                  "TUITIONFEE_IN": 27890,
                  "_deepnote_index_column": 11
                },
                {
                  "INSTNM": "Chattahoochee Valley Community College",
                  "TUITIONFEE_IN": 3510,
                  "_deepnote_index_column": 12
                },
                {
                  "INSTNM": "Concordia College Alabama",
                  "TUITIONFEE_IN": 7370,
                  "_deepnote_index_column": 13
                },
                {
                  "INSTNM": "South University-Montgomery",
                  "TUITIONFEE_IN": 15285,
                  "_deepnote_index_column": 14
                },
                {
                  "INSTNM": "Enterprise State Community College",
                  "TUITIONFEE_IN": 3052,
                  "_deepnote_index_column": 15
                },
                {
                  "INSTNM": "Coastal Alabama Community College",
                  "TUITIONFEE_IN": 3360,
                  "_deepnote_index_column": 16
                },
                {
                  "INSTNM": "Faulkner University",
                  "TUITIONFEE_IN": 14810,
                  "_deepnote_index_column": 17
                },
                {
                  "INSTNM": "Gadsden State Community College",
                  "TUITIONFEE_IN": 3270,
                  "_deepnote_index_column": 18
                },
                {
                  "INSTNM": "George C Wallace Community College-Dothan",
                  "TUITIONFEE_IN": 3270,
                  "_deepnote_index_column": 19
                },
                {
                  "INSTNM": "George C Wallace State Community College-Hanceville",
                  "TUITIONFEE_IN": 3570,
                  "_deepnote_index_column": 20
                },
                {
                  "INSTNM": "George C Wallace State Community College-Selma",
                  "TUITIONFEE_IN": 3270,
                  "_deepnote_index_column": 21
                },
                {
                  "INSTNM": "Herzing University-Birmingham",
                  "TUITIONFEE_IN": 10933,
                  "_deepnote_index_column": 22
                },
                {
                  "INSTNM": "Huntingdon College",
                  "TUITIONFEE_IN": 20990,
                  "_deepnote_index_column": 23
                },
                {
                  "INSTNM": "Heritage Christian University",
                  "TUITIONFEE_IN": 9360,
                  "_deepnote_index_column": 24
                },
                {
                  "INSTNM": "J. F. Drake State Community and Technical College",
                  "TUITIONFEE_IN": 3270,
                  "_deepnote_index_column": 25
                },
                {
                  "INSTNM": "J F Ingram State Technical College",
                  "TUITIONFEE_IN": 3924,
                  "_deepnote_index_column": 26
                },
                {
                  "INSTNM": "Jacksonville State University",
                  "TUITIONFEE_IN": 5424,
                  "_deepnote_index_column": 27
                },
                {
                  "INSTNM": "Jefferson Davis Community College",
                  "TUITIONFEE_IN": 3278,
                  "_deepnote_index_column": 28
                },
                {
                  "INSTNM": "Jefferson State Community College",
                  "TUITIONFEE_IN": 3630,
                  "_deepnote_index_column": 29
                },
                {
                  "INSTNM": "John C Calhoun State Community College",
                  "TUITIONFEE_IN": 3420,
                  "_deepnote_index_column": 30
                },
                {
                  "INSTNM": "Judson College",
                  "TUITIONFEE_IN": 13900,
                  "_deepnote_index_column": 31
                },
                {
                  "INSTNM": "Lawson State Community College",
                  "TUITIONFEE_IN": 3570,
                  "_deepnote_index_column": 32
                },
                {
                  "INSTNM": "University of West Alabama",
                  "TUITIONFEE_IN": 6524,
                  "_deepnote_index_column": 33
                },
                {
                  "INSTNM": "Lurleen B Wallace Community College",
                  "TUITIONFEE_IN": 3270,
                  "_deepnote_index_column": 34
                },
                {
                  "INSTNM": "Marion Military Institute",
                  "TUITIONFEE_IN": 8570,
                  "_deepnote_index_column": 35
                },
                {
                  "INSTNM": "Miles College",
                  "TUITIONFEE_IN": 9896,
                  "_deepnote_index_column": 36
                },
                {
                  "INSTNM": "University of Mobile",
                  "TUITIONFEE_IN": 16120,
                  "_deepnote_index_column": 37
                },
                {
                  "INSTNM": "University of Montevallo",
                  "TUITIONFEE_IN": 7750,
                  "_deepnote_index_column": 38
                },
                {
                  "INSTNM": "Northwest-Shoals Community College",
                  "TUITIONFEE_IN": 3450,
                  "_deepnote_index_column": 39
                },
                {
                  "INSTNM": "University of North Alabama",
                  "TUITIONFEE_IN": 5426,
                  "_deepnote_index_column": 40
                },
                {
                  "INSTNM": "Northeast Alabama Community College",
                  "TUITIONFEE_IN": 3420,
                  "_deepnote_index_column": 41
                },
                {
                  "INSTNM": "Oakwood University",
                  "TUITIONFEE_IN": 14250,
                  "_deepnote_index_column": 42
                },
                {
                  "INSTNM": "Alabama Southern Community College",
                  "TUITIONFEE_IN": 3270,
                  "_deepnote_index_column": 43
                },
                {
                  "INSTNM": "Prince Institute-Southeast",
                  "TUITIONFEE_IN": 8685,
                  "_deepnote_index_column": 44
                },
                {
                  "INSTNM": "Reid State Technical College",
                  "TUITIONFEE_IN": 3360,
                  "_deepnote_index_column": 45
                },
                {
                  "INSTNM": "Bishop State Community College",
                  "TUITIONFEE_IN": 3270,
                  "_deepnote_index_column": 46
                },
                {
                  "INSTNM": "Samford University",
                  "TUITIONFEE_IN": 21942,
                  "_deepnote_index_column": 47
                },
                {
                  "INSTNM": "Selma University",
                  "TUITIONFEE_IN": 5440,
                  "_deepnote_index_column": 48
                },
                {
                  "INSTNM": "Shelton State Community College",
                  "TUITIONFEE_IN": 3270,
                  "_deepnote_index_column": 49
                },
                {
                  "INSTNM": "Snead State Community College",
                  "TUITIONFEE_IN": 3390,
                  "_deepnote_index_column": 50
                },
                {
                  "INSTNM": "University of South Alabama",
                  "TUITIONFEE_IN": 5748,
                  "_deepnote_index_column": 51
                },
                {
                  "INSTNM": "Spring Hill College",
                  "TUITIONFEE_IN": 26730,
                  "_deepnote_index_column": 52
                },
                {
                  "INSTNM": "Southeastern Bible College",
                  "TUITIONFEE_IN": 11600,
                  "_deepnote_index_column": 53
                },
                {
                  "INSTNM": "Stillman College",
                  "TUITIONFEE_IN": 14464,
                  "_deepnote_index_column": 54
                },
                {
                  "INSTNM": "Talladega College",
                  "TUITIONFEE_IN": 11111,
                  "_deepnote_index_column": 55
                },
                {
                  "INSTNM": "H Councill Trenholm State Community College",
                  "TUITIONFEE_IN": 3270,
                  "_deepnote_index_column": 56
                },
                {
                  "INSTNM": "Troy University",
                  "TUITIONFEE_IN": 5860,
                  "_deepnote_index_column": 57
                },
                {
                  "INSTNM": "Tuskegee University",
                  "TUITIONFEE_IN": 16750,
                  "_deepnote_index_column": 58
                },
                {
                  "INSTNM": "Bevill State Community College",
                  "TUITIONFEE_IN": 3488,
                  "_deepnote_index_column": 60
                },
                {
                  "INSTNM": "University of Alaska Anchorage",
                  "TUITIONFEE_IN": 5186,
                  "_deepnote_index_column": 61
                },
                {
                  "INSTNM": "Alaska Bible College",
                  "TUITIONFEE_IN": 7130,
                  "_deepnote_index_column": 62
                },
                {
                  "INSTNM": "University of Alaska Fairbanks",
                  "TUITIONFEE_IN": 5358,
                  "_deepnote_index_column": 63
                },
                {
                  "INSTNM": "University of Alaska Southeast",
                  "TUITIONFEE_IN": 5130,
                  "_deepnote_index_column": 64
                },
                {
                  "INSTNM": "Alaska Pacific University",
                  "TUITIONFEE_IN": 26360,
                  "_deepnote_index_column": 65
                },
                {
                  "INSTNM": "Charter College",
                  "TUITIONFEE_IN": 17750,
                  "_deepnote_index_column": 67
                },
                {
                  "INSTNM": "Prince William Sound Community College",
                  "TUITIONFEE_IN": 4405,
                  "_deepnote_index_column": 68
                },
                {
                  "INSTNM": "Everest College-Phoenix",
                  "TUITIONFEE_IN": 15024,
                  "_deepnote_index_column": 70
                },
                {
                  "INSTNM": "Collins College",
                  "TUITIONFEE_IN": 12475,
                  "_deepnote_index_column": 71
                },
                {
                  "INSTNM": "American Indian College Inc",
                  "TUITIONFEE_IN": 9750,
                  "_deepnote_index_column": 75
                },
                {
                  "INSTNM": "Arizona State University-Tempe",
                  "TUITIONFEE_IN": 8132,
                  "_deepnote_index_column": 84
                },
                {
                  "INSTNM": "Arizona Western College",
                  "TUITIONFEE_IN": 2000,
                  "_deepnote_index_column": 85
                },
                {
                  "INSTNM": "University of Arizona",
                  "TUITIONFEE_IN": 8237,
                  "_deepnote_index_column": 86
                },
                {
                  "INSTNM": "Southwest University of Visual Arts-Tucson",
                  "TUITIONFEE_IN": 27125,
                  "_deepnote_index_column": 87
                },
                {
                  "INSTNM": "Central Arizona College",
                  "TUITIONFEE_IN": 1950,
                  "_deepnote_index_column": 89
                },
                {
                  "INSTNM": "Brown Mackie College-Tucson",
                  "TUITIONFEE_IN": 11904,
                  "_deepnote_index_column": 90
                },
                {
                  "INSTNM": "Cochise County Community College District",
                  "TUITIONFEE_IN": 1560,
                  "_deepnote_index_column": 92
                },
                {
                  "INSTNM": "DeVry University-Arizona",
                  "TUITIONFEE_IN": 14826,
                  "_deepnote_index_column": 96
                },
                {
                  "INSTNM": "Eastern Arizona College",
                  "TUITIONFEE_IN": 1520,
                  "_deepnote_index_column": 98
                },
                {
                  "INSTNM": "Embry-Riddle Aeronautical University-Prescott",
                  "TUITIONFEE_IN": 29428,
                  "_deepnote_index_column": 99
                },
                {
                  "INSTNM": "Glendale Community College",
                  "TUITIONFEE_IN": 1734,
                  "_deepnote_index_column": 101
                },
                {
                  "INSTNM": "Grand Canyon University",
                  "TUITIONFEE_IN": 16500,
                  "_deepnote_index_column": 102
                },
                {
                  "INSTNM": "GateWay Community College",
                  "TUITIONFEE_IN": 1734,
                  "_deepnote_index_column": 108
                },
                {
                  "INSTNM": "Mesa Community College",
                  "TUITIONFEE_IN": 1734,
                  "_deepnote_index_column": 109
                },
                {
                  "INSTNM": "ITT Technical Institute-Tucson",
                  "TUITIONFEE_IN": 18048,
                  "_deepnote_index_column": 110
                },
                {
                  "INSTNM": "ITT Technical Institute-Tempe",
                  "TUITIONFEE_IN": 18048,
                  "_deepnote_index_column": 111
                },
                {
                  "INSTNM": "Mohave Community College",
                  "TUITIONFEE_IN": 1848,
                  "_deepnote_index_column": 112
                },
                {
                  "INSTNM": "Dine College",
                  "TUITIONFEE_IN": 805,
                  "_deepnote_index_column": 114
                },
                {
                  "INSTNM": "Northern Arizona University",
                  "TUITIONFEE_IN": 7667,
                  "_deepnote_index_column": 115
                },
                {
                  "INSTNM": "Northland Pioneer College",
                  "TUITIONFEE_IN": 1414,
                  "_deepnote_index_column": 116
                },
                {
                  "INSTNM": "Phoenix College",
                  "TUITIONFEE_IN": 1734,
                  "_deepnote_index_column": 118
                },
                {
                  "INSTNM": "University of Phoenix-Phoenix Campus",
                  "TUITIONFEE_IN": 10440,
                  "_deepnote_index_column": 120
                },
                {
                  "INSTNM": "Pima Community College",
                  "TUITIONFEE_IN": 1412,
                  "_deepnote_index_column": 121
                },
                {
                  "INSTNM": "Prescott College",
                  "TUITIONFEE_IN": 26235,
                  "_deepnote_index_column": 124
                },
                {
                  "INSTNM": "Rio Salado College",
                  "TUITIONFEE_IN": 1734,
                  "_deepnote_index_column": 126
                },
                {
                  "INSTNM": "Scottsdale Community College",
                  "TUITIONFEE_IN": 1734,
                  "_deepnote_index_column": 129
                },
                {
                  "INSTNM": "South Mountain Community College",
                  "TUITIONFEE_IN": 1734,
                  "_deepnote_index_column": 130
                },
                {
                  "INSTNM": "Arizona Christian University",
                  "TUITIONFEE_IN": 16174,
                  "_deepnote_index_column": 131
                },
                {
                  "INSTNM": "Western International University",
                  "TUITIONFEE_IN": 10480,
                  "_deepnote_index_column": 134
                },
                {
                  "INSTNM": "Yavapai College",
                  "TUITIONFEE_IN": 1488,
                  "_deepnote_index_column": 136
                },
                {
                  "INSTNM": "University of Arkansas at Little Rock",
                  "TUITIONFEE_IN": 6643,
                  "_deepnote_index_column": 137
                },
                {
                  "INSTNM": "Arkansas Baptist College",
                  "TUITIONFEE_IN": 7432,
                  "_deepnote_index_column": 140
                },
                {
                  "INSTNM": "Lyon College",
                  "TUITIONFEE_IN": 21324,
                  "_deepnote_index_column": 143
                },
                {
                  "INSTNM": "University of Arkansas",
                  "TUITIONFEE_IN": 6768,
                  "_deepnote_index_column": 146
                },
                {
                  "INSTNM": "University of Arkansas at Pine Bluff",
                  "TUITIONFEE_IN": 5033,
                  "_deepnote_index_column": 147
                },
                {
                  "INSTNM": "Arkansas State University-Beebe",
                  "TUITIONFEE_IN": 2160,
                  "_deepnote_index_column": 148
                },
                {
                  "INSTNM": "Arkansas State University-Main Campus",
                  "TUITIONFEE_IN": 6640,
                  "_deepnote_index_column": 149
                },
                {
                  "INSTNM": "Arkansas Tech University",
                  "TUITIONFEE_IN": 4804,
                  "_deepnote_index_column": 150
                },
                {
                  "INSTNM": "University of Arkansas at Monticello",
                  "TUITIONFEE_IN": 4990,
                  "_deepnote_index_column": 151
                },
                {
                  "INSTNM": "Baptist Health College Little Rock",
                  "TUITIONFEE_IN": 7340,
                  "_deepnote_index_column": 153
                },
                {
                  "INSTNM": "Black River Technical College",
                  "TUITIONFEE_IN": 1968,
                  "_deepnote_index_column": 155
                },
                {
                  "INSTNM": "University of Central Arkansas",
                  "TUITIONFEE_IN": 6908,
                  "_deepnote_index_column": 156
                },
                {
                  "INSTNM": "Central Baptist College",
                  "TUITIONFEE_IN": 10760,
                  "_deepnote_index_column": 157
                },
                {
                  "INSTNM": "Cossatot Community College of the University of Arkansas",
                  "TUITIONFEE_IN": 1900,
                  "_deepnote_index_column": 158
                },
                {
                  "INSTNM": "Crowley's Ridge College",
                  "TUITIONFEE_IN": 9910,
                  "_deepnote_index_column": 159
                },
                {
                  "INSTNM": "Crowley's Ridge Technical Institute",
                  "TUITIONFEE_IN": 1350,
                  "_deepnote_index_column": 160
                },
                {
                  "INSTNM": "East Arkansas Community College",
                  "TUITIONFEE_IN": 2190,
                  "_deepnote_index_column": 161
                },
                {
                  "INSTNM": "National Park College",
                  "TUITIONFEE_IN": 2718,
                  "_deepnote_index_column": 164
                },
                {
                  "INSTNM": "University of Arkansas Community College-Batesville",
                  "TUITIONFEE_IN": 1772,
                  "_deepnote_index_column": 165
                },
                {
                  "INSTNM": "Harding University",
                  "TUITIONFEE_IN": 14040,
                  "_deepnote_index_column": 166
                },
                {
                  "INSTNM": "Henderson State University",
                  "TUITIONFEE_IN": 6740,
                  "_deepnote_index_column": 167
                },
                {
                  "INSTNM": "Hendrix College",
                  "TUITIONFEE_IN": 32040,
                  "_deepnote_index_column": 168
                },
                {
                  "INSTNM": "John Brown University",
                  "TUITIONFEE_IN": 19770,
                  "_deepnote_index_column": 171
                },
                {
                  "INSTNM": "Arkansas State University Mid-South",
                  "TUITIONFEE_IN": 2270,
                  "_deepnote_index_column": 176
                },
                {
                  "INSTNM": "Arkansas Northeastern College",
                  "TUITIONFEE_IN": 1720,
                  "_deepnote_index_column": 177
                },
                {
                  "INSTNM": "North Arkansas College",
                  "TUITIONFEE_IN": 1536,
                  "_deepnote_index_column": 180
                },
                {
                  "INSTNM": "Northwest Technical Institute",
                  "TUITIONFEE_IN": 2321,
                  "_deepnote_index_column": 181
                },
                {
                  "INSTNM": "Ouachita Baptist University",
                  "TUITIONFEE_IN": 19820,
                  "_deepnote_index_column": 182
                },
                {
                  "INSTNM": "Arkansas State University Three Rivers",
                  "TUITIONFEE_IN": 2312,
                  "_deepnote_index_column": 183
                },
                {
                  "INSTNM": "Ozarka College",
                  "TUITIONFEE_IN": 2186,
                  "_deepnote_index_column": 184
                },
                {
                  "INSTNM": "University of the Ozarks",
                  "TUITIONFEE_IN": 20530,
                  "_deepnote_index_column": 185
                },
                {
                  "INSTNM": "University of Arkansas Community College-Morrilton",
                  "TUITIONFEE_IN": 2793,
                  "_deepnote_index_column": 186
                },
                {
                  "INSTNM": "Philander Smith College",
                  "TUITIONFEE_IN": 9450,
                  "_deepnote_index_column": 187
                },
                {
                  "INSTNM": "Phillips Community College of the University of Arkansas",
                  "TUITIONFEE_IN": 2150,
                  "_deepnote_index_column": 188
                },
                {
                  "INSTNM": "Southeast Arkansas College",
                  "TUITIONFEE_IN": 2770,
                  "_deepnote_index_column": 189
                },
                {
                  "INSTNM": "University of Arkansas-Pulaski Technical College",
                  "TUITIONFEE_IN": 2840,
                  "_deepnote_index_column": 191
                },
                {
                  "INSTNM": "University of Arkansas Hope-Texarkana",
                  "TUITIONFEE_IN": 1943,
                  "_deepnote_index_column": 192
                },
                {
                  "INSTNM": "University of Arkansas Community College Rich Mountain",
                  "TUITIONFEE_IN": 1632,
                  "_deepnote_index_column": 193
                },
                {
                  "INSTNM": "Williams Baptist University",
                  "TUITIONFEE_IN": 12020,
                  "_deepnote_index_column": 196
                },
                {
                  "INSTNM": "South Arkansas Community College",
                  "TUITIONFEE_IN": 1868,
                  "_deepnote_index_column": 197
                },
                {
                  "INSTNM": "Southern Arkansas University Main Campus",
                  "TUITIONFEE_IN": 6426,
                  "_deepnote_index_column": 198
                },
                {
                  "INSTNM": "Southern Arkansas University Tech",
                  "TUITIONFEE_IN": 3270,
                  "_deepnote_index_column": 199
                },
                {
                  "INSTNM": "University of Arkansas-Fort Smith",
                  "TUITIONFEE_IN": 4918,
                  "_deepnote_index_column": 201
                },
                {
                  "INSTNM": "Academy of Art University",
                  "TUITIONFEE_IN": 18050,
                  "_deepnote_index_column": 203
                },
                {
                  "INSTNM": "ITT Technical Institute-Rancho Cordova",
                  "TUITIONFEE_IN": 18048,
                  "_deepnote_index_column": 204
                },
                {
                  "INSTNM": "College of Alameda",
                  "TUITIONFEE_IN": 766,
                  "_deepnote_index_column": 208
                },
                {
                  "INSTNM": "Allan Hancock College",
                  "TUITIONFEE_IN": 782,
                  "_deepnote_index_column": 209
                },
                {
                  "INSTNM": "American Academy of Dramatic Arts-Los Angeles",
                  "TUITIONFEE_IN": 29220,
                  "_deepnote_index_column": 210
                },
                {
                  "INSTNM": "American River College",
                  "TUITIONFEE_IN": 644,
                  "_deepnote_index_column": 216
                },
                {
                  "INSTNM": "Antelope Valley College",
                  "TUITIONFEE_IN": 780,
                  "_deepnote_index_column": 218
                },
                {
                  "INSTNM": "Art Center College of Design",
                  "TUITIONFEE_IN": 32168,
                  "_deepnote_index_column": 219
                },
                {
                  "INSTNM": "Azusa Pacific University",
                  "TUITIONFEE_IN": 28800,
                  "_deepnote_index_column": 222
                },
                {
                  "INSTNM": "Bakersfield College",
                  "TUITIONFEE_IN": 766,
                  "_deepnote_index_column": 223
                },
                {
                  "INSTNM": "Barstow Community College",
                  "TUITIONFEE_IN": 624,
                  "_deepnote_index_column": 225
                },
                {
                  "INSTNM": "Bethany University",
                  "TUITIONFEE_IN": 18900,
                  "_deepnote_index_column": 227
                },
                {
                  "INSTNM": "Bethesda University",
                  "TUITIONFEE_IN": 7620,
                  "_deepnote_index_column": 228
                },
                {
                  "INSTNM": "Biola University",
                  "TUITIONFEE_IN": 28852,
                  "_deepnote_index_column": 229
                },
                {
                  "INSTNM": "Brooks Institute",
                  "TUITIONFEE_IN": 17880,
                  "_deepnote_index_column": 230
                },
                {
                  "INSTNM": "Bryan University",
                  "TUITIONFEE_IN": 12270,
                  "_deepnote_index_column": 232
                },
                {
                  "INSTNM": "Butte College",
                  "TUITIONFEE_IN": 824,
                  "_deepnote_index_column": 233
                },
                {
                  "INSTNM": "Cabrillo College",
                  "TUITIONFEE_IN": 774,
                  "_deepnote_index_column": 236
                },
                {
                  "INSTNM": "California Baptist University",
                  "TUITIONFEE_IN": 24654,
                  "_deepnote_index_column": 237
                },
                {
                  "INSTNM": "California College of the Arts",
                  "TUITIONFEE_IN": 35222,
                  "_deepnote_index_column": 238
                },
                {
                  "INSTNM": "California Institute of Technology",
                  "TUITIONFEE_IN": 36282,
                  "_deepnote_index_column": 240
                },
                {
                  "INSTNM": "California Lutheran University",
                  "TUITIONFEE_IN": 31000,
                  "_deepnote_index_column": 241
                },
                {
                  "INSTNM": "California Polytechnic State University-San Luis Obispo",
                  "TUITIONFEE_IN": 6480,
                  "_deepnote_index_column": 242
                },
                {
                  "INSTNM": "California State University-Bakersfield",
                  "TUITIONFEE_IN": 5314,
                  "_deepnote_index_column": 244
                },
                {
                  "INSTNM": "California State University-Stanislaus",
                  "TUITIONFEE_IN": 5302,
                  "_deepnote_index_column": 245
                },
                {
                  "INSTNM": "California State University-San Bernardino",
                  "TUITIONFEE_IN": 5049,
                  "_deepnote_index_column": 246
                },
                {
                  "INSTNM": "California State Polytechnic University-Pomona",
                  "TUITIONFEE_IN": 4807,
                  "_deepnote_index_column": 247
                },
                {
                  "INSTNM": "California State University-Chico",
                  "TUITIONFEE_IN": 5620,
                  "_deepnote_index_column": 248
                },
                {
                  "INSTNM": "California State University-Dominguez Hills",
                  "TUITIONFEE_IN": 4849,
                  "_deepnote_index_column": 249
                },
                {
                  "INSTNM": "California State University-Fresno",
                  "TUITIONFEE_IN": 4879,
                  "_deepnote_index_column": 250
                },
                {
                  "INSTNM": "California State University-Fullerton",
                  "TUITIONFEE_IN": 4858,
                  "_deepnote_index_column": 251
                },
                {
                  "INSTNM": "California State University-East Bay",
                  "TUITIONFEE_IN": 5091,
                  "_deepnote_index_column": 252
                },
                {
                  "INSTNM": "California State University-Long Beach",
                  "TUITIONFEE_IN": 4810,
                  "_deepnote_index_column": 253
                },
                {
                  "INSTNM": "California State University-Los Angeles",
                  "TUITIONFEE_IN": 4848,
                  "_deepnote_index_column": 254
                },
                {
                  "INSTNM": "California State University-Northridge",
                  "TUITIONFEE_IN": 5076,
                  "_deepnote_index_column": 255
                },
                {
                  "INSTNM": "California State University-Sacramento",
                  "TUITIONFEE_IN": 5195,
                  "_deepnote_index_column": 256
                },
                {
                  "INSTNM": "University of California-Berkeley",
                  "TUITIONFEE_IN": 10940,
                  "_deepnote_index_column": 257
                },
                {
                  "INSTNM": "University of California-Davis",
                  "TUITIONFEE_IN": 11958,
                  "_deepnote_index_column": 258
                },
                {
                  "INSTNM": "University of California-Irvine",
                  "TUITIONFEE_IN": 11232,
                  "_deepnote_index_column": 259
                },
                {
                  "INSTNM": "University of California-Los Angeles",
                  "TUITIONFEE_IN": 10781,
                  "_deepnote_index_column": 260
                },
                {
                  "INSTNM": "University of California-Riverside",
                  "TUITIONFEE_IN": 11029,
                  "_deepnote_index_column": 261
                },
                {
                  "INSTNM": "University of California-San Diego",
                  "TUITIONFEE_IN": 11306,
                  "_deepnote_index_column": 262
                },
                {
                  "INSTNM": "University of California-Santa Barbara",
                  "TUITIONFEE_IN": 11686,
                  "_deepnote_index_column": 264
                },
                {
                  "INSTNM": "University of California-Santa Cruz",
                  "TUITIONFEE_IN": 11505,
                  "_deepnote_index_column": 265
                },
                {
                  "INSTNM": "California Christian College",
                  "TUITIONFEE_IN": 7460,
                  "_deepnote_index_column": 268
                },
                {
                  "INSTNM": "Le Cordon Bleu College of Culinary Arts-San Francisco",
                  "TUITIONFEE_IN": 17771,
                  "_deepnote_index_column": 270
                },
                {
                  "INSTNM": "California Institute of the Arts",
                  "TUITIONFEE_IN": 36742,
                  "_deepnote_index_column": 272
                },
                {
                  "INSTNM": "California State University Maritime Academy",
                  "TUITIONFEE_IN": 5294,
                  "_deepnote_index_column": 273
                },
                {
                  "INSTNM": "Canada College",
                  "TUITIONFEE_IN": 780,
                  "_deepnote_index_column": 275
                },
                {
                  "INSTNM": "College of the Canyons",
                  "TUITIONFEE_IN": 670,
                  "_deepnote_index_column": 276
                },
                {
                  "INSTNM": "Cerritos College",
                  "TUITIONFEE_IN": 780,
                  "_deepnote_index_column": 286
                },
                {
                  "INSTNM": "Cerro Coso Community College",
                  "TUITIONFEE_IN": 728,
                  "_deepnote_index_column": 287
                },
                {
                  "INSTNM": "Chabot College",
                  "TUITIONFEE_IN": 756,
                  "_deepnote_index_column": 288
                },
                {
                  "INSTNM": "Chaffey College",
                  "TUITIONFEE_IN": 710,
                  "_deepnote_index_column": 289
                },
                {
                  "INSTNM": "Chapman University",
                  "TUITIONFEE_IN": 38524,
                  "_deepnote_index_column": 290
                },
                {
                  "INSTNM": "Charles R Drew University of Medicine and Science",
                  "TUITIONFEE_IN": 11300,
                  "_deepnote_index_column": 291
                },
                {
                  "INSTNM": "Concordia University-Irvine",
                  "TUITIONFEE_IN": 26000,
                  "_deepnote_index_column": 292
                },
                {
                  "INSTNM": "San Diego Christian College",
                  "TUITIONFEE_IN": 22692,
                  "_deepnote_index_column": 293
                },
                {
                  "INSTNM": "Citrus College",
                  "TUITIONFEE_IN": 814,
                  "_deepnote_index_column": 295
                },
                {
                  "INSTNM": "City College of San Francisco",
                  "TUITIONFEE_IN": 734,
                  "_deepnote_index_column": 296
                },
                {
                  "INSTNM": "Claremont McKenna College",
                  "TUITIONFEE_IN": 40230,
                  "_deepnote_index_column": 298
                },
                {
                  "INSTNM": "Cleveland Chiropractic College of Los Angeles",
                  "TUITIONFEE_IN": 6532,
                  "_deepnote_index_column": 300
                },
                {
                  "INSTNM": "Coastline Community College",
                  "TUITIONFEE_IN": 656,
                  "_deepnote_index_column": 302
                },
                {
                  "INSTNM": "Cogswell College",
                  "TUITIONFEE_IN": 18924,
                  "_deepnote_index_column": 303
                },
                {
                  "INSTNM": "Coleman University",
                  "TUITIONFEE_IN": 35200,
                  "_deepnote_index_column": 304
                },
                {
                  "INSTNM": "Columbia College",
                  "TUITIONFEE_IN": 670,
                  "_deepnote_index_column": 307
                },
                {
                  "INSTNM": "Columbia College Hollywood",
                  "TUITIONFEE_IN": 17105,
                  "_deepnote_index_column": 308
                },
                {
                  "INSTNM": "Compton College",
                  "TUITIONFEE_IN": 1282,
                  "_deepnote_index_column": 309
                },
                {
                  "INSTNM": "Contra Costa College",
                  "TUITIONFEE_IN": 738,
                  "_deepnote_index_column": 311
                },
                {
                  "INSTNM": "Cosumnes River College",
                  "TUITIONFEE_IN": 644,
                  "_deepnote_index_column": 312
                },
                {
                  "INSTNM": "Crafton Hills College",
                  "TUITIONFEE_IN": 651,
                  "_deepnote_index_column": 313
                },
                {
                  "INSTNM": "Cuesta College",
                  "TUITIONFEE_IN": 860,
                  "_deepnote_index_column": 314
                },
                {
                  "INSTNM": "Cuyamaca College",
                  "TUITIONFEE_IN": 806,
                  "_deepnote_index_column": 315
                },
                {
                  "INSTNM": "Cypress College",
                  "TUITIONFEE_IN": 656,
                  "_deepnote_index_column": 317
                },
                {
                  "INSTNM": "De Anza College",
                  "TUITIONFEE_IN": 878,
                  "_deepnote_index_column": 318
                },
                {
                  "INSTNM": "Dell'Arte International School of Physical Theatre",
                  "TUITIONFEE_IN": 12250,
                  "_deepnote_index_column": 321
                },
                {
                  "INSTNM": "College of the Desert",
                  "TUITIONFEE_IN": 762,
                  "_deepnote_index_column": 322
                },
                {
                  "INSTNM": "Design Institute of San Diego",
                  "TUITIONFEE_IN": 18480,
                  "_deepnote_index_column": 323
                },
                {
                  "INSTNM": "DeVry University-California",
                  "TUITIONFEE_IN": 14826,
                  "_deepnote_index_column": 324
                },
                {
                  "INSTNM": "Diablo Valley College",
                  "TUITIONFEE_IN": 738,
                  "_deepnote_index_column": 325
                },
                {
                  "INSTNM": "Dominican University of California",
                  "TUITIONFEE_IN": 35550,
                  "_deepnote_index_column": 326
                },
                {
                  "INSTNM": "East Los Angeles College",
                  "TUITIONFEE_IN": 699,
                  "_deepnote_index_column": 328
                },
                {
                  "INSTNM": "El Camino Community College District",
                  "TUITIONFEE_IN": 1282,
                  "_deepnote_index_column": 331
                },
                {
                  "INSTNM": "Evergreen Valley College",
                  "TUITIONFEE_IN": 764,
                  "_deepnote_index_column": 338
                },
                {
                  "INSTNM": "FIDM-Fashion Institute of Design & Merchandising-Los Angeles",
                  "TUITIONFEE_IN": 24407,
                  "_deepnote_index_column": 339
                },
                {
                  "INSTNM": "Fashion Careers College",
                  "TUITIONFEE_IN": 20400,
                  "_deepnote_index_column": 340
                },
                {
                  "INSTNM": "FIDM-Fashion Institute of Design & Merchandising-San Francisco",
                  "TUITIONFEE_IN": 24407,
                  "_deepnote_index_column": 341
                },
                {
                  "INSTNM": "FIDM-Fashion Institute of Design & Merchandising-Orange County",
                  "TUITIONFEE_IN": 24407,
                  "_deepnote_index_column": 342
                },
                {
                  "INSTNM": "Feather River Community College District",
                  "TUITIONFEE_IN": 859,
                  "_deepnote_index_column": 343
                },
                {
                  "INSTNM": "Foothill College",
                  "TUITIONFEE_IN": 894,
                  "_deepnote_index_column": 348
                },
                {
                  "INSTNM": "Fresno City College",
                  "TUITIONFEE_IN": 658,
                  "_deepnote_index_column": 351
                },
                {
                  "INSTNM": "Fresno Pacific University",
                  "TUITIONFEE_IN": 23898,
                  "_deepnote_index_column": 352
                },
                {
                  "INSTNM": "Fullerton College",
                  "TUITIONFEE_IN": 656,
                  "_deepnote_index_column": 354
                },
                {
                  "INSTNM": "Gavilan College",
                  "TUITIONFEE_IN": 708,
                  "_deepnote_index_column": 356
                },
                {
                  "INSTNM": "Glendale Community College",
                  "TUITIONFEE_IN": 691,
                  "_deepnote_index_column": 358
                },
                {
                  "INSTNM": "Golden West College",
                  "TUITIONFEE_IN": 686,
                  "_deepnote_index_column": 361
                },
                {
                  "INSTNM": "Grossmont College",
                  "TUITIONFEE_IN": 806,
                  "_deepnote_index_column": 363
                },
                {
                  "INSTNM": "Hartnell College",
                  "TUITIONFEE_IN": 744,
                  "_deepnote_index_column": 365
                },
                {
                  "INSTNM": "Harvey Mudd College",
                  "TUITIONFEE_IN": 40390,
                  "_deepnote_index_column": 366
                },
                {
                  "INSTNM": "Heald College-Rancho Cordova",
                  "TUITIONFEE_IN": 13095,
                  "_deepnote_index_column": 367
                },
                {
                  "INSTNM": "Heald College-Fresno",
                  "TUITIONFEE_IN": 13095,
                  "_deepnote_index_column": 368
                },
                {
                  "INSTNM": "Heald College-San Jose",
                  "TUITIONFEE_IN": 13095,
                  "_deepnote_index_column": 369
                },
                {
                  "INSTNM": "Heald College-San Francisco",
                  "TUITIONFEE_IN": 13095,
                  "_deepnote_index_column": 370
                },
                {
                  "INSTNM": "Heald College-Concord",
                  "TUITIONFEE_IN": 13095,
                  "_deepnote_index_column": 371
                },
                {
                  "INSTNM": "Holy Names University",
                  "TUITIONFEE_IN": 28690,
                  "_deepnote_index_column": 373
                },
                {
                  "INSTNM": "Humboldt State University",
                  "TUITIONFEE_IN": 5750,
                  "_deepnote_index_column": 375
                },
                {
                  "INSTNM": "Humphreys University-Stockton and Modesto Campuses",
                  "TUITIONFEE_IN": 10134,
                  "_deepnote_index_column": 376
                },
                {
                  "INSTNM": "Imperial Valley College",
                  "TUITIONFEE_IN": 763,
                  "_deepnote_index_column": 377
                },
                {
                  "INSTNM": "Irvine Valley College",
                  "TUITIONFEE_IN": 827,
                  "_deepnote_index_column": 382
                }
              ],
              "rows_bottom": [
                {
                  "INSTNM": "Platt College-Miller-Motte Technical-Columbus",
                  "TUITIONFEE_IN": 10410,
                  "_deepnote_index_column": 7039
                },
                {
                  "INSTNM": "National University College-Ponce",
                  "TUITIONFEE_IN": 6455,
                  "_deepnote_index_column": 7040
                },
                {
                  "INSTNM": "Fortis College-Grand Prairie",
                  "TUITIONFEE_IN": 20639,
                  "_deepnote_index_column": 7041
                },
                {
                  "INSTNM": "The Art Institute of Virginia Beach",
                  "TUITIONFEE_IN": 17596,
                  "_deepnote_index_column": 7043
                },
                {
                  "INSTNM": "Bryant & Stratton College-Bayshore",
                  "TUITIONFEE_IN": 15245,
                  "_deepnote_index_column": 7044
                },
                {
                  "INSTNM": "Daymar College-Online",
                  "TUITIONFEE_IN": 16290,
                  "_deepnote_index_column": 7045
                },
                {
                  "INSTNM": "Virginia College-Columbia",
                  "TUITIONFEE_IN": 16760,
                  "_deepnote_index_column": 7046
                },
                {
                  "INSTNM": "Sanford-Brown College-Dearborn",
                  "TUITIONFEE_IN": 12999,
                  "_deepnote_index_column": 7047
                },
                {
                  "INSTNM": "Sanford-Brown College-Grand Rapids",
                  "TUITIONFEE_IN": 13513,
                  "_deepnote_index_column": 7048
                },
                {
                  "INSTNM": "Sanford-Brown College-Phoenix",
                  "TUITIONFEE_IN": 10219,
                  "_deepnote_index_column": 7052
                },
                {
                  "INSTNM": "Sanford-Brown Institute-Orlando",
                  "TUITIONFEE_IN": 15321,
                  "_deepnote_index_column": 7053
                },
                {
                  "INSTNM": "Globe University-Madison East",
                  "TUITIONFEE_IN": 15660,
                  "_deepnote_index_column": 7059
                },
                {
                  "INSTNM": "Minnesota School of Business-Lakeville",
                  "TUITIONFEE_IN": 15660,
                  "_deepnote_index_column": 7060
                },
                {
                  "INSTNM": "Globe University-Green Bay",
                  "TUITIONFEE_IN": 15660,
                  "_deepnote_index_column": 7061
                },
                {
                  "INSTNM": "Globe University-Madison West",
                  "TUITIONFEE_IN": 15660,
                  "_deepnote_index_column": 7062
                },
                {
                  "INSTNM": "Globe University-Wausau",
                  "TUITIONFEE_IN": 15660,
                  "_deepnote_index_column": 7063
                },
                {
                  "INSTNM": "Strayer University-Arkansas",
                  "TUITIONFEE_IN": 14085,
                  "_deepnote_index_column": 7072
                },
                {
                  "INSTNM": "Strayer University-Georgia",
                  "TUITIONFEE_IN": 14085,
                  "_deepnote_index_column": 7073
                },
                {
                  "INSTNM": "Strayer University-Mississippi",
                  "TUITIONFEE_IN": 14085,
                  "_deepnote_index_column": 7075
                },
                {
                  "INSTNM": "Strayer University-South Carolina",
                  "TUITIONFEE_IN": 14085,
                  "_deepnote_index_column": 7076
                },
                {
                  "INSTNM": "Strayer University-Texas",
                  "TUITIONFEE_IN": 14085,
                  "_deepnote_index_column": 7077
                },
                {
                  "INSTNM": "The Art Institute of San Antonio",
                  "TUITIONFEE_IN": 17618,
                  "_deepnote_index_column": 7078
                },
                {
                  "INSTNM": "Globe University-La Crosse",
                  "TUITIONFEE_IN": 15660,
                  "_deepnote_index_column": 7079
                },
                {
                  "INSTNM": "Broadview Entertainment Arts University",
                  "TUITIONFEE_IN": 14760,
                  "_deepnote_index_column": 7088
                },
                {
                  "INSTNM": "Bryant & Stratton College-Hampton",
                  "TUITIONFEE_IN": 15220,
                  "_deepnote_index_column": 7089
                },
                {
                  "INSTNM": "Northern California Institute of Cosmetology Inc",
                  "TUITIONFEE_IN": 11605,
                  "_deepnote_index_column": 7092
                },
                {
                  "INSTNM": "Unitek College",
                  "TUITIONFEE_IN": 21630,
                  "_deepnote_index_column": 7099
                },
                {
                  "INSTNM": "South University-Richmond",
                  "TUITIONFEE_IN": 15285,
                  "_deepnote_index_column": 7104
                },
                {
                  "INSTNM": "South University-Virginia Beach",
                  "TUITIONFEE_IN": 15285,
                  "_deepnote_index_column": 7105
                },
                {
                  "INSTNM": "Future-Tech Institute",
                  "TUITIONFEE_IN": 6200,
                  "_deepnote_index_column": 7110
                },
                {
                  "INSTNM": "Compass College of Cinematic Arts",
                  "TUITIONFEE_IN": 20405,
                  "_deepnote_index_column": 7119
                },
                {
                  "INSTNM": "Victory Trade School",
                  "TUITIONFEE_IN": 6000,
                  "_deepnote_index_column": 7121
                },
                {
                  "INSTNM": "ITT Technical Institute-Merrillville",
                  "TUITIONFEE_IN": 18048,
                  "_deepnote_index_column": 7135
                },
                {
                  "INSTNM": "ITT Technical Institute-Tallahassee",
                  "TUITIONFEE_IN": 18048,
                  "_deepnote_index_column": 7136
                },
                {
                  "INSTNM": "ITT Technical Institute-Salem",
                  "TUITIONFEE_IN": 18048,
                  "_deepnote_index_column": 7137
                },
                {
                  "INSTNM": "ITT Technical Institute-Akron",
                  "TUITIONFEE_IN": 18048,
                  "_deepnote_index_column": 7138
                },
                {
                  "INSTNM": "ITT Technical Institute-Cedar Rapids",
                  "TUITIONFEE_IN": 18048,
                  "_deepnote_index_column": 7139
                },
                {
                  "INSTNM": "ITT Technical Institute-Corona",
                  "TUITIONFEE_IN": 18048,
                  "_deepnote_index_column": 7140
                },
                {
                  "INSTNM": "ITT Technical Institute-Johnson City",
                  "TUITIONFEE_IN": 18048,
                  "_deepnote_index_column": 7141
                },
                {
                  "INSTNM": "ITT Technical Institute-DeSoto",
                  "TUITIONFEE_IN": 18048,
                  "_deepnote_index_column": 7142
                },
                {
                  "INSTNM": "ITT Technical Institute-North Charleston",
                  "TUITIONFEE_IN": 18048,
                  "_deepnote_index_column": 7143
                },
                {
                  "INSTNM": "ITT Technical Institute-Aurora",
                  "TUITIONFEE_IN": 18048,
                  "_deepnote_index_column": 7144
                },
                {
                  "INSTNM": "ITT Technical Institute-West Covina",
                  "TUITIONFEE_IN": 18048,
                  "_deepnote_index_column": 7145
                },
                {
                  "INSTNM": "ITT Technical Institute-Culver City",
                  "TUITIONFEE_IN": 18048,
                  "_deepnote_index_column": 7146
                },
                {
                  "INSTNM": "ITT Technical Institute-Dearborn",
                  "TUITIONFEE_IN": 18048,
                  "_deepnote_index_column": 7147
                },
                {
                  "INSTNM": "ITT Technical Institute-Las Vegas",
                  "TUITIONFEE_IN": 18048,
                  "_deepnote_index_column": 7148
                },
                {
                  "INSTNM": "Touro University Worldwide",
                  "TUITIONFEE_IN": 15660,
                  "_deepnote_index_column": 7149
                },
                {
                  "INSTNM": "National College-Willoughby Hills",
                  "TUITIONFEE_IN": 10489,
                  "_deepnote_index_column": 7154
                },
                {
                  "INSTNM": "Herzing University-Kenosha",
                  "TUITIONFEE_IN": 10422,
                  "_deepnote_index_column": 7155
                },
                {
                  "INSTNM": "Herzing University-Brookfield",
                  "TUITIONFEE_IN": 10062,
                  "_deepnote_index_column": 7156
                },
                {
                  "INSTNM": "Heald College-Modesto",
                  "TUITIONFEE_IN": 13095,
                  "_deepnote_index_column": 7164
                },
                {
                  "INSTNM": "Strayer University-Global Region",
                  "TUITIONFEE_IN": 14085,
                  "_deepnote_index_column": 7169
                },
                {
                  "INSTNM": "Brown Mackie College-Albuquerque",
                  "TUITIONFEE_IN": 10023,
                  "_deepnote_index_column": 7173
                },
                {
                  "INSTNM": "Brown Mackie College-St Louis",
                  "TUITIONFEE_IN": 9850,
                  "_deepnote_index_column": 7174
                },
                {
                  "INSTNM": "Ross Medical Education Center-Davison",
                  "TUITIONFEE_IN": 15064,
                  "_deepnote_index_column": 7177
                },
                {
                  "INSTNM": "Ross Medical Education Center-Granger",
                  "TUITIONFEE_IN": 15064,
                  "_deepnote_index_column": 7178
                },
                {
                  "INSTNM": "Ross Medical Education Center-Niles",
                  "TUITIONFEE_IN": 15064,
                  "_deepnote_index_column": 7179
                },
                {
                  "INSTNM": "Ross Medical Education Center-Canton",
                  "TUITIONFEE_IN": 15064,
                  "_deepnote_index_column": 7180
                },
                {
                  "INSTNM": "Ecotech Institute",
                  "TUITIONFEE_IN": 12600,
                  "_deepnote_index_column": 7187
                },
                {
                  "INSTNM": "Altierus Career College-Fort Worth South",
                  "TUITIONFEE_IN": 16007,
                  "_deepnote_index_column": 7189
                },
                {
                  "INSTNM": "Moreno Valley College",
                  "TUITIONFEE_IN": 817,
                  "_deepnote_index_column": 7192
                },
                {
                  "INSTNM": "Norco College",
                  "TUITIONFEE_IN": 814,
                  "_deepnote_index_column": 7195
                },
                {
                  "INSTNM": "Daymar College-Louisville",
                  "TUITIONFEE_IN": 16290,
                  "_deepnote_index_column": 7196
                },
                {
                  "INSTNM": "Dorsey School of Business-Saginaw",
                  "TUITIONFEE_IN": 15625,
                  "_deepnote_index_column": 7197
                },
                {
                  "INSTNM": "Brio Academy of Cosmetology-Enfield",
                  "TUITIONFEE_IN": 17623,
                  "_deepnote_index_column": 7198
                },
                {
                  "INSTNM": "Brown Mackie College-San Antonio",
                  "TUITIONFEE_IN": 11160,
                  "_deepnote_index_column": 7208
                },
                {
                  "INSTNM": "Cortiva Institute-New Jersey",
                  "TUITIONFEE_IN": 8745,
                  "_deepnote_index_column": 7211
                },
                {
                  "INSTNM": "ICPR Junior College-Manati",
                  "TUITIONFEE_IN": 6291,
                  "_deepnote_index_column": 7214
                },
                {
                  "INSTNM": "Troy University-Phenix City Campus",
                  "TUITIONFEE_IN": 5860,
                  "_deepnote_index_column": 7215
                },
                {
                  "INSTNM": "Troy University-Montgomery Campus",
                  "TUITIONFEE_IN": 5860,
                  "_deepnote_index_column": 7216
                },
                {
                  "INSTNM": "Troy University-Dothan Campus",
                  "TUITIONFEE_IN": 5860,
                  "_deepnote_index_column": 7217
                },
                {
                  "INSTNM": "Troy University-Atlantic Region",
                  "TUITIONFEE_IN": 5520,
                  "_deepnote_index_column": 7218
                },
                {
                  "INSTNM": "Troy University-Southeast Region",
                  "TUITIONFEE_IN": 4920,
                  "_deepnote_index_column": 7219
                },
                {
                  "INSTNM": "Troy University-Western Region",
                  "TUITIONFEE_IN": 6000,
                  "_deepnote_index_column": 7220
                },
                {
                  "INSTNM": "Troy University-Online",
                  "TUITIONFEE_IN": 6000,
                  "_deepnote_index_column": 7221
                },
                {
                  "INSTNM": "Humphreys College-Modesto",
                  "TUITIONFEE_IN": 10134,
                  "_deepnote_index_column": 7236
                },
                {
                  "INSTNM": "Mount Saint Mary's University - Doheny Campus",
                  "TUITIONFEE_IN": 30132,
                  "_deepnote_index_column": 7246
                },
                {
                  "INSTNM": "San Joaquin General Hospital School of Radiation Technology",
                  "TUITIONFEE_IN": 780,
                  "_deepnote_index_column": 7247
                },
                {
                  "INSTNM": "Porter and Chester Institute of Rocky Hill",
                  "TUITIONFEE_IN": 23291,
                  "_deepnote_index_column": 7256
                },
                {
                  "INSTNM": "Porter and Chester Institute of Enfield",
                  "TUITIONFEE_IN": 23291,
                  "_deepnote_index_column": 7257
                },
                {
                  "INSTNM": "Porter and Chester Institute of Waterbury",
                  "TUITIONFEE_IN": 23291,
                  "_deepnote_index_column": 7258
                },
                {
                  "INSTNM": "Porter and Chester Institute of Chicopee",
                  "TUITIONFEE_IN": 23291,
                  "_deepnote_index_column": 7259
                },
                {
                  "INSTNM": "Porter and Chester Institute of Worcester",
                  "TUITIONFEE_IN": 23291,
                  "_deepnote_index_column": 7260
                },
                {
                  "INSTNM": "Strayer University-Takoma Park Campus",
                  "TUITIONFEE_IN": 14085,
                  "_deepnote_index_column": 7261
                },
                {
                  "INSTNM": "Keiser University-Melbourne",
                  "TUITIONFEE_IN": 14176,
                  "_deepnote_index_column": 7262
                },
                {
                  "INSTNM": "Keiser University-Tallahassee",
                  "TUITIONFEE_IN": 14176,
                  "_deepnote_index_column": 7263
                },
                {
                  "INSTNM": "Keiser University-Daytona",
                  "TUITIONFEE_IN": 14176,
                  "_deepnote_index_column": 7264
                },
                {
                  "INSTNM": "Keiser University-Lakeland",
                  "TUITIONFEE_IN": 14176,
                  "_deepnote_index_column": 7265
                },
                {
                  "INSTNM": "Keiser University- Miami",
                  "TUITIONFEE_IN": 14176,
                  "_deepnote_index_column": 7266
                },
                {
                  "INSTNM": "Keiser University-Orlando",
                  "TUITIONFEE_IN": 14176,
                  "_deepnote_index_column": 7267
                },
                {
                  "INSTNM": "Keiser University-Sarasota",
                  "TUITIONFEE_IN": 14176,
                  "_deepnote_index_column": 7268
                },
                {
                  "INSTNM": "Keiser University-Jacksonville",
                  "TUITIONFEE_IN": 14176,
                  "_deepnote_index_column": 7269
                },
                {
                  "INSTNM": "Keiser University-Tampa",
                  "TUITIONFEE_IN": 14176,
                  "_deepnote_index_column": 7270
                },
                {
                  "INSTNM": "Keiser University-Pembroke Pines",
                  "TUITIONFEE_IN": 14176,
                  "_deepnote_index_column": 7271
                },
                {
                  "INSTNM": "Keiser University-Port St Lucie",
                  "TUITIONFEE_IN": 14176,
                  "_deepnote_index_column": 7272
                },
                {
                  "INSTNM": "Keiser University-West Palm Beach",
                  "TUITIONFEE_IN": 14176,
                  "_deepnote_index_column": 7273
                },
                {
                  "INSTNM": "Keiser University-Ft Myers",
                  "TUITIONFEE_IN": 14176,
                  "_deepnote_index_column": 7274
                },
                {
                  "INSTNM": "Rasmussen College-New Port Richey",
                  "TUITIONFEE_IN": 13520,
                  "_deepnote_index_column": 7276
                },
                {
                  "INSTNM": "Rasmussen College-Fort Myers",
                  "TUITIONFEE_IN": 13520,
                  "_deepnote_index_column": 7277
                },
                {
                  "INSTNM": "Rasmussen College-Tampa/Brandon",
                  "TUITIONFEE_IN": 13520,
                  "_deepnote_index_column": 7278
                },
                {
                  "INSTNM": "Coffeyville Technical Campus",
                  "TUITIONFEE_IN": 2650,
                  "_deepnote_index_column": 7284
                },
                {
                  "INSTNM": "Columbus Technical Campus",
                  "TUITIONFEE_IN": 2650,
                  "_deepnote_index_column": 7285
                },
                {
                  "INSTNM": "Daymar College-Owensboro",
                  "TUITIONFEE_IN": 15344,
                  "_deepnote_index_column": 7290
                },
                {
                  "INSTNM": "The Art Institute of Boston at Lesley University",
                  "TUITIONFEE_IN": 27725,
                  "_deepnote_index_column": 7296
                },
                {
                  "INSTNM": "Cleary University",
                  "TUITIONFEE_IN": 16560,
                  "_deepnote_index_column": 7297
                },
                {
                  "INSTNM": "Davenport University-Warren Location",
                  "TUITIONFEE_IN": 11814,
                  "_deepnote_index_column": 7298
                },
                {
                  "INSTNM": "Davenport University-Kalamazoo Location",
                  "TUITIONFEE_IN": 11814,
                  "_deepnote_index_column": 7299
                },
                {
                  "INSTNM": "Davenport University-Lansing Location",
                  "TUITIONFEE_IN": 11814,
                  "_deepnote_index_column": 7300
                },
                {
                  "INSTNM": "Davenport University-Midland Location",
                  "TUITIONFEE_IN": 10950,
                  "_deepnote_index_column": 7301
                },
                {
                  "INSTNM": "Davenport University-Holland Location",
                  "TUITIONFEE_IN": 11814,
                  "_deepnote_index_column": 7302
                },
                {
                  "INSTNM": "Davenport University-Flint Location",
                  "TUITIONFEE_IN": 10950,
                  "_deepnote_index_column": 7303
                },
                {
                  "INSTNM": "Davenport University-Caro Location",
                  "TUITIONFEE_IN": 10950,
                  "_deepnote_index_column": 7304
                },
                {
                  "INSTNM": "Davenport University-Traverse City Location",
                  "TUITIONFEE_IN": 10950,
                  "_deepnote_index_column": 7305
                },
                {
                  "INSTNM": "Davenport University-Alma Location",
                  "TUITIONFEE_IN": 10950,
                  "_deepnote_index_column": 7306
                },
                {
                  "INSTNM": "Davenport University-Saginaw Location",
                  "TUITIONFEE_IN": 10950,
                  "_deepnote_index_column": 7307
                },
                {
                  "INSTNM": "Davenport University-Livonia Location",
                  "TUITIONFEE_IN": 11814,
                  "_deepnote_index_column": 7308
                },
                {
                  "INSTNM": "Davenport University-Battle Creek Location",
                  "TUITIONFEE_IN": 10950,
                  "_deepnote_index_column": 7309
                },
                {
                  "INSTNM": "Anoka-Ramsey Community College-Cambridge Campus",
                  "TUITIONFEE_IN": 4551,
                  "_deepnote_index_column": 7310
                },
                {
                  "INSTNM": "Central Lakes College-Staples Campus",
                  "TUITIONFEE_IN": 5255,
                  "_deepnote_index_column": 7311
                },
                {
                  "INSTNM": "M State - Detroit Lakes Campus",
                  "TUITIONFEE_IN": 4898,
                  "_deepnote_index_column": 7312
                },
                {
                  "INSTNM": "M State - Moorhead Campus",
                  "TUITIONFEE_IN": 4973,
                  "_deepnote_index_column": 7313
                },
                {
                  "INSTNM": "M State - Wadena Campus",
                  "TUITIONFEE_IN": 4868,
                  "_deepnote_index_column": 7314
                },
                {
                  "INSTNM": "South Central College-Faribault",
                  "TUITIONFEE_IN": 4910,
                  "_deepnote_index_column": 7315
                },
                {
                  "INSTNM": "Mesabi Range College",
                  "TUITIONFEE_IN": 4844,
                  "_deepnote_index_column": 7316
                },
                {
                  "INSTNM": "Northland Community and Technical College - East Grand Forks",
                  "TUITIONFEE_IN": 5021,
                  "_deepnote_index_column": 7317
                },
                {
                  "INSTNM": "Rasmussen College-Bloomington",
                  "TUITIONFEE_IN": 15180,
                  "_deepnote_index_column": 7318
                },
                {
                  "INSTNM": "Rasmussen College-Eagan",
                  "TUITIONFEE_IN": 15180,
                  "_deepnote_index_column": 7319
                },
                {
                  "INSTNM": "Rasmussen College-Mankato",
                  "TUITIONFEE_IN": 15180,
                  "_deepnote_index_column": 7320
                },
                {
                  "INSTNM": "Rasmussen College-Brooklyn Park",
                  "TUITIONFEE_IN": 15180,
                  "_deepnote_index_column": 7321
                },
                {
                  "INSTNM": "Rasmussen College-Lake Elmo/Woodbury",
                  "TUITIONFEE_IN": 15180,
                  "_deepnote_index_column": 7322
                },
                {
                  "INSTNM": "Rasmussen College-Blaine",
                  "TUITIONFEE_IN": 15180,
                  "_deepnote_index_column": 7323
                },
                {
                  "INSTNM": "Ridgewater College",
                  "TUITIONFEE_IN": 5280,
                  "_deepnote_index_column": 7324
                },
                {
                  "INSTNM": "Minnesota State CollegeSoutheast-Red Wing Campus",
                  "TUITIONFEE_IN": 5318,
                  "_deepnote_index_column": 7325
                },
                {
                  "INSTNM": "Copiah-Lincoln Community College Simpson County Center",
                  "TUITIONFEE_IN": 2100,
                  "_deepnote_index_column": 7326
                },
                {
                  "INSTNM": "Copiah-Lincoln Community College-Natchez Campus",
                  "TUITIONFEE_IN": 2100,
                  "_deepnote_index_column": 7327
                },
                {
                  "INSTNM": "Pearl River Community College-Forrest County Center",
                  "TUITIONFEE_IN": 2100,
                  "_deepnote_index_column": 7328
                },
                {
                  "INSTNM": "Berkeley College - Westchester Campus",
                  "TUITIONFEE_IN": 20700,
                  "_deepnote_index_column": 7330
                },
                {
                  "INSTNM": "Culinary Institute of America at Greystone",
                  "TUITIONFEE_IN": 25400,
                  "_deepnote_index_column": 7331
                },
                {
                  "INSTNM": "Culinary Institute of America San Antonio",
                  "TUITIONFEE_IN": 24980,
                  "_deepnote_index_column": 7332
                },
                {
                  "INSTNM": "Pratt Manhattan-A Division of Pratt Institute",
                  "TUITIONFEE_IN": 36790,
                  "_deepnote_index_column": 7334
                },
                {
                  "INSTNM": "St. Joseph's College Long Island",
                  "TUITIONFEE_IN": 17565,
                  "_deepnote_index_column": 7335
                },
                {
                  "INSTNM": "Los Angeles Center",
                  "TUITIONFEE_IN": 11132,
                  "_deepnote_index_column": 7338
                },
                {
                  "INSTNM": "Florida Center",
                  "TUITIONFEE_IN": 11132,
                  "_deepnote_index_column": 7339
                },
                {
                  "INSTNM": "Sacramento Center",
                  "TUITIONFEE_IN": 11132,
                  "_deepnote_index_column": 7340
                },
                {
                  "INSTNM": "Montpelier Center - Closed July 2013",
                  "TUITIONFEE_IN": 11132,
                  "_deepnote_index_column": 7341
                },
                {
                  "INSTNM": "Brattleboro Center - Closed July 2013",
                  "TUITIONFEE_IN": 11132,
                  "_deepnote_index_column": 7342
                },
                {
                  "INSTNM": "Bucks County Community College-Upper Bucks Campus",
                  "TUITIONFEE_IN": 3742,
                  "_deepnote_index_column": 7347
                },
                {
                  "INSTNM": "Bucks County Community College-Lower Bucks Campus",
                  "TUITIONFEE_IN": 3742,
                  "_deepnote_index_column": 7348
                },
                {
                  "INSTNM": "Harrisburg Area Community College-Lancaster",
                  "TUITIONFEE_IN": 3885,
                  "_deepnote_index_column": 7349
                },
                {
                  "INSTNM": "Harrisburg Area Community College-Gettysburg",
                  "TUITIONFEE_IN": 3885,
                  "_deepnote_index_column": 7350
                },
                {
                  "INSTNM": "Harrisburg Area Community College-Lebanon",
                  "TUITIONFEE_IN": 3885,
                  "_deepnote_index_column": 7351
                },
                {
                  "INSTNM": "Harrisburg Area Community College-York",
                  "TUITIONFEE_IN": 3885,
                  "_deepnote_index_column": 7352
                },
                {
                  "INSTNM": "Northampton County Area Community College-Monroe",
                  "TUITIONFEE_IN": 3270,
                  "_deepnote_index_column": 7353
                },
                {
                  "INSTNM": "Laurel Technical Institute Meadville",
                  "TUITIONFEE_IN": 8365,
                  "_deepnote_index_column": 7354
                },
                {
                  "INSTNM": "South Hills School of Business and Technology-Altoona",
                  "TUITIONFEE_IN": 14358,
                  "_deepnote_index_column": 7355
                },
                {
                  "INSTNM": "San Jacinto College-North Campus",
                  "TUITIONFEE_IN": 1410,
                  "_deepnote_index_column": 7356
                },
                {
                  "INSTNM": "San Jacinto College-South Campus",
                  "TUITIONFEE_IN": 1410,
                  "_deepnote_index_column": 7357
                },
                {
                  "INSTNM": "Snow College-Richfield Campus",
                  "TUITIONFEE_IN": 2542,
                  "_deepnote_index_column": 7358
                },
                {
                  "INSTNM": "Strayer University-Alexandria Campus",
                  "TUITIONFEE_IN": 14085,
                  "_deepnote_index_column": 7359
                },
                {
                  "INSTNM": "Strayer University-Woodbridge Campus",
                  "TUITIONFEE_IN": 14085,
                  "_deepnote_index_column": 7360
                },
                {
                  "INSTNM": "Strayer University-Manassas Campus",
                  "TUITIONFEE_IN": 14085,
                  "_deepnote_index_column": 7361
                },
                {
                  "INSTNM": "Strayer University-Loudoun Campus",
                  "TUITIONFEE_IN": 14085,
                  "_deepnote_index_column": 7362
                },
                {
                  "INSTNM": "Strayer University-Fredericksburg Campus",
                  "TUITIONFEE_IN": 14085,
                  "_deepnote_index_column": 7363
                },
                {
                  "INSTNM": "Strayer University-Henrico Campus",
                  "TUITIONFEE_IN": 14085,
                  "_deepnote_index_column": 7364
                },
                {
                  "INSTNM": "Strayer University-Chesterfield Campus",
                  "TUITIONFEE_IN": 14085,
                  "_deepnote_index_column": 7365
                },
                {
                  "INSTNM": "Strayer University-Chesapeake Campus",
                  "TUITIONFEE_IN": 14085,
                  "_deepnote_index_column": 7366
                },
                {
                  "INSTNM": "Strayer University-Newport News Campus",
                  "TUITIONFEE_IN": 14085,
                  "_deepnote_index_column": 7367
                },
                {
                  "INSTNM": "Strayer University-Virginia Beach Campus",
                  "TUITIONFEE_IN": 14085,
                  "_deepnote_index_column": 7368
                },
                {
                  "INSTNM": "Washington State University-Vancouver",
                  "TUITIONFEE_IN": 8592,
                  "_deepnote_index_column": 7370
                },
                {
                  "INSTNM": "Washington State University-Tri Cities",
                  "TUITIONFEE_IN": 8592,
                  "_deepnote_index_column": 7372
                },
                {
                  "INSTNM": "West Virginia Business College-Nutter Fort",
                  "TUITIONFEE_IN": 9150,
                  "_deepnote_index_column": 7373
                },
                {
                  "INSTNM": "University of the Virgin Islands-Albert A. Sheen",
                  "TUITIONFEE_IN": 4310,
                  "_deepnote_index_column": 7374
                },
                {
                  "INSTNM": "Vista College Amarillo",
                  "TUITIONFEE_IN": 17200,
                  "_deepnote_index_column": 7375
                },
                {
                  "INSTNM": "Vista College Lubbock",
                  "TUITIONFEE_IN": 18563,
                  "_deepnote_index_column": 7376
                },
                {
                  "INSTNM": "Computer Career Center-Las Cruces",
                  "TUITIONFEE_IN": 18563,
                  "_deepnote_index_column": 7377
                },
                {
                  "INSTNM": "Everglades University-Orlando",
                  "TUITIONFEE_IN": 12920,
                  "_deepnote_index_column": 7386
                },
                {
                  "INSTNM": "Everglades University-Sarasota",
                  "TUITIONFEE_IN": 12920,
                  "_deepnote_index_column": 7387
                },
                {
                  "INSTNM": "Wright Career College - Oklahoma City OK",
                  "TUITIONFEE_IN": 9740,
                  "_deepnote_index_column": 7388
                },
                {
                  "INSTNM": "Wright Career College - Tulsa OK",
                  "TUITIONFEE_IN": 9740,
                  "_deepnote_index_column": 7389
                },
                {
                  "INSTNM": "Florida National University-South Campus",
                  "TUITIONFEE_IN": 13170,
                  "_deepnote_index_column": 7390
                },
                {
                  "INSTNM": "Florida National University Training Center",
                  "TUITIONFEE_IN": 13170,
                  "_deepnote_index_column": 7391
                },
                {
                  "INSTNM": "Southeastern College-Miami Lakes",
                  "TUITIONFEE_IN": 14176,
                  "_deepnote_index_column": 7393
                },
                {
                  "INSTNM": "Southeastern College-St. Petersburg",
                  "TUITIONFEE_IN": 14176,
                  "_deepnote_index_column": 7394
                },
                {
                  "INSTNM": "Southeastern College-New Port Richey",
                  "TUITIONFEE_IN": 14176,
                  "_deepnote_index_column": 7395
                },
                {
                  "INSTNM": "Strayer University-Rockville Campus",
                  "TUITIONFEE_IN": 14085,
                  "_deepnote_index_column": 7396
                },
                {
                  "INSTNM": "Strayer University-Anne Arundel Campus",
                  "TUITIONFEE_IN": 14085,
                  "_deepnote_index_column": 7397
                },
                {
                  "INSTNM": "Strayer University-White Marsh Campus",
                  "TUITIONFEE_IN": 14085,
                  "_deepnote_index_column": 7398
                },
                {
                  "INSTNM": "Strayer University-Owings Mills Campus",
                  "TUITIONFEE_IN": 14085,
                  "_deepnote_index_column": 7399
                },
                {
                  "INSTNM": "McCann School of Business & Technology",
                  "TUITIONFEE_IN": 12816,
                  "_deepnote_index_column": 7400
                },
                {
                  "INSTNM": "McCann School of Business & Technology",
                  "TUITIONFEE_IN": 12816,
                  "_deepnote_index_column": 7401
                },
                {
                  "INSTNM": "McCann School of Business & Technology",
                  "TUITIONFEE_IN": 12816,
                  "_deepnote_index_column": 7402
                },
                {
                  "INSTNM": "McCann School of Business & Technology",
                  "TUITIONFEE_IN": 12816,
                  "_deepnote_index_column": 7403
                },
                {
                  "INSTNM": "McCann School of Business & Technology",
                  "TUITIONFEE_IN": 12816,
                  "_deepnote_index_column": 7404
                },
                {
                  "INSTNM": "Strayer University-Nashville Campus",
                  "TUITIONFEE_IN": 14310,
                  "_deepnote_index_column": 7411
                },
                {
                  "INSTNM": "Strayer University-Shelby Oaks Campus",
                  "TUITIONFEE_IN": 14310,
                  "_deepnote_index_column": 7412
                },
                {
                  "INSTNM": "Strayer University-Knoxville Campus",
                  "TUITIONFEE_IN": 14310,
                  "_deepnote_index_column": 7413
                },
                {
                  "INSTNM": "Strayer University-Delaware County Campus",
                  "TUITIONFEE_IN": 14085,
                  "_deepnote_index_column": 7414
                },
                {
                  "INSTNM": "Strayer University-King of Prussia Campus",
                  "TUITIONFEE_IN": 14085,
                  "_deepnote_index_column": 7415
                },
                {
                  "INSTNM": "Strayer University-Center City Campus",
                  "TUITIONFEE_IN": 14085,
                  "_deepnote_index_column": 7416
                },
                {
                  "INSTNM": "Strayer University-Lower Bucks County Campus",
                  "TUITIONFEE_IN": 14085,
                  "_deepnote_index_column": 7417
                },
                {
                  "INSTNM": "Strayer University-Warrendale Campus",
                  "TUITIONFEE_IN": 14085,
                  "_deepnote_index_column": 7418
                },
                {
                  "INSTNM": "Strayer University-Allentown Campus",
                  "TUITIONFEE_IN": 14085,
                  "_deepnote_index_column": 7419
                },
                {
                  "INSTNM": "Rasmussen College-Aurora",
                  "TUITIONFEE_IN": 13560,
                  "_deepnote_index_column": 7420
                },
                {
                  "INSTNM": "Rasmussen College-Romeoville/Joliet",
                  "TUITIONFEE_IN": 13560,
                  "_deepnote_index_column": 7421
                },
                {
                  "INSTNM": "Rasmussen College-Mokena/Tinley Park",
                  "TUITIONFEE_IN": 13560,
                  "_deepnote_index_column": 7422
                },
                {
                  "INSTNM": "Strayer University-Tampa East Campus",
                  "TUITIONFEE_IN": 14085,
                  "_deepnote_index_column": 7423
                },
                {
                  "INSTNM": "Strayer University-Maitland Campus",
                  "TUITIONFEE_IN": 14085,
                  "_deepnote_index_column": 7424
                },
                {
                  "INSTNM": "Strayer University-Orlando East Campus",
                  "TUITIONFEE_IN": 14085,
                  "_deepnote_index_column": 7425
                },
                {
                  "INSTNM": "Strayer University-Sand Lake Campus",
                  "TUITIONFEE_IN": 14085,
                  "_deepnote_index_column": 7426
                },
                {
                  "INSTNM": "Strayer University-Baymeadows Campus",
                  "TUITIONFEE_IN": 14085,
                  "_deepnote_index_column": 7427
                },
                {
                  "INSTNM": "Strayer University-Palm Beach Gardens Campus",
                  "TUITIONFEE_IN": 14085,
                  "_deepnote_index_column": 7428
                },
                {
                  "INSTNM": "Strayer University-Coral Springs Campus",
                  "TUITIONFEE_IN": 14085,
                  "_deepnote_index_column": 7429
                },
                {
                  "INSTNM": "Strayer University-Fort Lauderdale Campus",
                  "TUITIONFEE_IN": 14085,
                  "_deepnote_index_column": 7430
                },
                {
                  "INSTNM": "Strayer University-Miramar Campus",
                  "TUITIONFEE_IN": 14085,
                  "_deepnote_index_column": 7431
                },
                {
                  "INSTNM": "Strayer University-Doral",
                  "TUITIONFEE_IN": 14085,
                  "_deepnote_index_column": 7432
                },
                {
                  "INSTNM": "Strayer University-Brickell",
                  "TUITIONFEE_IN": 14085,
                  "_deepnote_index_column": 7433
                },
                {
                  "INSTNM": "Dayton School of Medical Massage-Lima",
                  "TUITIONFEE_IN": 14500,
                  "_deepnote_index_column": 7435
                },
                {
                  "INSTNM": "Cincinnati School of Medical Massage",
                  "TUITIONFEE_IN": 14500,
                  "_deepnote_index_column": 7436
                },
                {
                  "INSTNM": "Cleveland Institute of Medical Massage",
                  "TUITIONFEE_IN": 14500,
                  "_deepnote_index_column": 7437
                },
                {
                  "INSTNM": "Strayer University-Huntsville Campus",
                  "TUITIONFEE_IN": 14085,
                  "_deepnote_index_column": 7438
                },
                {
                  "INSTNM": "Rasmussen College-Appleton",
                  "TUITIONFEE_IN": 13560,
                  "_deepnote_index_column": 7439
                },
                {
                  "INSTNM": "Rasmussen College-Wausau",
                  "TUITIONFEE_IN": 13560,
                  "_deepnote_index_column": 7440
                },
                {
                  "INSTNM": "Strayer University-Louisville Campus",
                  "TUITIONFEE_IN": 14085,
                  "_deepnote_index_column": 7441
                },
                {
                  "INSTNM": "Strayer University-Florence Campus",
                  "TUITIONFEE_IN": 14085,
                  "_deepnote_index_column": 7442
                },
                {
                  "INSTNM": "Strayer University-North Charlotte",
                  "TUITIONFEE_IN": 14085,
                  "_deepnote_index_column": 7443
                },
                {
                  "INSTNM": "Strayer University-South Charlotte",
                  "TUITIONFEE_IN": 14085,
                  "_deepnote_index_column": 7444
                },
                {
                  "INSTNM": "Strayer University-North Raleigh Campus",
                  "TUITIONFEE_IN": 14085,
                  "_deepnote_index_column": 7445
                },
                {
                  "INSTNM": "Strayer University-Greensboro Campus",
                  "TUITIONFEE_IN": 14085,
                  "_deepnote_index_column": 7446
                },
                {
                  "INSTNM": "Strayer University-Huntersville Campus",
                  "TUITIONFEE_IN": 14085,
                  "_deepnote_index_column": 7447
                },
                {
                  "INSTNM": "Strayer University-South Raleigh Campus",
                  "TUITIONFEE_IN": 14085,
                  "_deepnote_index_column": 7448
                },
                {
                  "INSTNM": "Strayer University-Willingboro Campus",
                  "TUITIONFEE_IN": 14085,
                  "_deepnote_index_column": 7449
                },
                {
                  "INSTNM": "Strayer University-Lawrenceville",
                  "TUITIONFEE_IN": 14085,
                  "_deepnote_index_column": 7450
                },
                {
                  "INSTNM": "Strayer University-Piscataway",
                  "TUITIONFEE_IN": 14085,
                  "_deepnote_index_column": 7451
                },
                {
                  "INSTNM": "Strayer University-Columbus Campus",
                  "TUITIONFEE_IN": 14085,
                  "_deepnote_index_column": 7452
                },
                {
                  "INSTNM": "Strayer University-Fairview Park Campus",
                  "TUITIONFEE_IN": 14085,
                  "_deepnote_index_column": 7453
                },
                {
                  "INSTNM": "Strayer University-Akron Campus",
                  "TUITIONFEE_IN": 14085,
                  "_deepnote_index_column": 7454
                },
                {
                  "INSTNM": "Strayer University-Cobb Campus",
                  "TUITIONFEE_IN": 14085,
                  "_deepnote_index_column": 7456
                },
                {
                  "INSTNM": "Strayer University-Morrow Campus",
                  "TUITIONFEE_IN": 14085,
                  "_deepnote_index_column": 7457
                },
                {
                  "INSTNM": "Strayer University-Roswell Campus",
                  "TUITIONFEE_IN": 14085,
                  "_deepnote_index_column": 7458
                },
                {
                  "INSTNM": "Strayer University-Douglasville Campus",
                  "TUITIONFEE_IN": 14085,
                  "_deepnote_index_column": 7459
                },
                {
                  "INSTNM": "Strayer University-Lithonia Campus",
                  "TUITIONFEE_IN": 14085,
                  "_deepnote_index_column": 7460
                },
                {
                  "INSTNM": "Strayer University-Savannah Campus",
                  "TUITIONFEE_IN": 14085,
                  "_deepnote_index_column": 7461
                },
                {
                  "INSTNM": "Strayer University-Augusta Campus",
                  "TUITIONFEE_IN": 14085,
                  "_deepnote_index_column": 7462
                },
                {
                  "INSTNM": "Strayer University-Columbus",
                  "TUITIONFEE_IN": 14085,
                  "_deepnote_index_column": 7463
                },
                {
                  "INSTNM": "Strayer University-Columbia Campus",
                  "TUITIONFEE_IN": 14085,
                  "_deepnote_index_column": 7464
                },
                {
                  "INSTNM": "Strayer University-Charleston Campus",
                  "TUITIONFEE_IN": 14085,
                  "_deepnote_index_column": 7465
                },
                {
                  "INSTNM": "Strayer University-Irving",
                  "TUITIONFEE_IN": 14085,
                  "_deepnote_index_column": 7466
                },
                {
                  "INSTNM": "Strayer University-Katy",
                  "TUITIONFEE_IN": 14085,
                  "_deepnote_index_column": 7467
                },
                {
                  "INSTNM": "Strayer University-Northwest Houston",
                  "TUITIONFEE_IN": 14085,
                  "_deepnote_index_column": 7468
                },
                {
                  "INSTNM": "Strayer University-Plano",
                  "TUITIONFEE_IN": 14085,
                  "_deepnote_index_column": 7469
                }
              ]
            },
            "text/plain": "                                    INSTNM  TUITIONFEE_IN\n1                 Alabama A & M University         5800.0\n2      University of Alabama at Birmingham         5806.0\n3                       Amridge University         8360.0\n4      University of Alabama in Huntsville         7492.0\n5                 Alabama State University         7164.0\n...                                    ...            ...\n7465  Strayer University-Charleston Campus        14085.0\n7466             Strayer University-Irving        14085.0\n7467               Strayer University-Katy        14085.0\n7468  Strayer University-Northwest Houston        14085.0\n7469              Strayer University-Plano        14085.0\n\n[4337 rows x 2 columns]",
            "text/html": "<div>\n<style scoped>\n    .dataframe tbody tr th:only-of-type {\n        vertical-align: middle;\n    }\n\n    .dataframe tbody tr th {\n        vertical-align: top;\n    }\n\n    .dataframe thead th {\n        text-align: right;\n    }\n</style>\n<table border=\"1\" class=\"dataframe\">\n  <thead>\n    <tr style=\"text-align: right;\">\n      <th></th>\n      <th>INSTNM</th>\n      <th>TUITIONFEE_IN</th>\n    </tr>\n  </thead>\n  <tbody>\n    <tr>\n      <th>1</th>\n      <td>Alabama A &amp; M University</td>\n      <td>5800.0</td>\n    </tr>\n    <tr>\n      <th>2</th>\n      <td>University of Alabama at Birmingham</td>\n      <td>5806.0</td>\n    </tr>\n    <tr>\n      <th>3</th>\n      <td>Amridge University</td>\n      <td>8360.0</td>\n    </tr>\n    <tr>\n      <th>4</th>\n      <td>University of Alabama in Huntsville</td>\n      <td>7492.0</td>\n    </tr>\n    <tr>\n      <th>5</th>\n      <td>Alabama State University</td>\n      <td>7164.0</td>\n    </tr>\n    <tr>\n      <th>...</th>\n      <td>...</td>\n      <td>...</td>\n    </tr>\n    <tr>\n      <th>7465</th>\n      <td>Strayer University-Charleston Campus</td>\n      <td>14085.0</td>\n    </tr>\n    <tr>\n      <th>7466</th>\n      <td>Strayer University-Irving</td>\n      <td>14085.0</td>\n    </tr>\n    <tr>\n      <th>7467</th>\n      <td>Strayer University-Katy</td>\n      <td>14085.0</td>\n    </tr>\n    <tr>\n      <th>7468</th>\n      <td>Strayer University-Northwest Houston</td>\n      <td>14085.0</td>\n    </tr>\n    <tr>\n      <th>7469</th>\n      <td>Strayer University-Plano</td>\n      <td>14085.0</td>\n    </tr>\n  </tbody>\n</table>\n<p>4337 rows × 2 columns</p>\n</div>"
          },
          "metadata": {}
        }
      ]
    },
    {
      "cell_type": "code",
      "metadata": {
        "tags": [],
        "cell_id": "00009-145f793a-1637-4103-ae2c-ea14ac67e04e",
        "deepnote_to_be_reexecuted": false,
        "source_hash": "42da3336",
        "execution_millis": 23,
        "execution_start": 1618799277349,
        "deepnote_cell_type": "code"
      },
      "source": "\r\ndf.info()",
      "execution_count": 16,
      "outputs": [
        {
          "name": "stdout",
          "text": "<class 'pandas.core.frame.DataFrame'>\nInt64Index: 4337 entries, 1 to 7469\nData columns (total 2 columns):\n #   Column         Non-Null Count  Dtype  \n---  ------         --------------  -----  \n 0   INSTNM         4337 non-null   object \n 1   TUITIONFEE_IN  4337 non-null   float64\ndtypes: float64(1), object(1)\nmemory usage: 101.6+ KB\n",
          "output_type": "stream"
        }
      ]
    },
    {
      "cell_type": "code",
      "metadata": {
        "tags": [],
        "cell_id": "00010-411765b4-59de-4617-804d-bdacd524f354",
        "deepnote_to_be_reexecuted": false,
        "source_hash": "79d92533",
        "execution_millis": 17,
        "execution_start": 1618799280745,
        "deepnote_cell_type": "code"
      },
      "source": "# 7 - Find out how many observations have 0 tution.\nobservation = (df['TUITIONFEE_IN']==0).value_counts()\nobservation",
      "execution_count": 17,
      "outputs": [
        {
          "output_type": "execute_result",
          "execution_count": 17,
          "data": {
            "text/plain": "False    4332\nTrue        5\nName: TUITIONFEE_IN, dtype: int64"
          },
          "metadata": {}
        }
      ]
    },
    {
      "cell_type": "code",
      "metadata": {
        "tags": [],
        "cell_id": "00011-51499d1c-a28d-4577-b62d-9f6a5c0826fc",
        "deepnote_to_be_reexecuted": false,
        "source_hash": "66159dbd",
        "execution_millis": 1,
        "execution_start": 1618799284465,
        "deepnote_cell_type": "code"
      },
      "source": "# 8 - Drop those observations with 0 tuition\r\n# Disaply the number of observations afterward\r\ndf=df[df['TUITIONFEE_IN']!=0]\r\n",
      "execution_count": 18,
      "outputs": []
    },
    {
      "cell_type": "code",
      "source": "# 9 - Calculate and display the mean (average) of the tuitions of all the remaining observations\naverage_of_tutions=df[\"TUITIONFEE_IN\"].mean()\naverage_of_tutions",
      "metadata": {
        "tags": [],
        "cell_id": "00012-fb0184ac-547f-4a4d-91b3-99d1ff835715",
        "deepnote_to_be_reexecuted": false,
        "source_hash": "e5622e60",
        "execution_millis": 8,
        "execution_start": 1618799289627,
        "deepnote_cell_type": "code"
      },
      "outputs": [
        {
          "output_type": "execute_result",
          "execution_count": 19,
          "data": {
            "text/plain": "12544.819252077563"
          },
          "metadata": {}
        }
      ],
      "execution_count": 19
    },
    {
      "cell_type": "code",
      "source": "# 10 - Randomly select just 1 observation from the data frame.\n# Display the tuition of that observation.\nran_obs=random.randint(0,len(df))\ndf.iloc[ran_obs]",
      "metadata": {
        "tags": [],
        "cell_id": "00013-e496864b-9772-4cbe-8db5-ad28f0363997",
        "deepnote_to_be_reexecuted": false,
        "source_hash": "90cc1052",
        "execution_millis": 7,
        "execution_start": 1618799292133,
        "deepnote_cell_type": "code"
      },
      "outputs": [
        {
          "output_type": "execute_result",
          "execution_count": 20,
          "data": {
            "text/plain": "INSTNM           National American University-Zona Rosa\nTUITIONFEE_IN                                   12565.0\nName: 6354, dtype: object"
          },
          "metadata": {}
        }
      ],
      "execution_count": 20
    },
    {
      "cell_type": "code",
      "source": "\nobs_tution=df['TUITIONFEE_IN'].iloc[ran_obs]\nobs_tution",
      "metadata": {
        "tags": [],
        "cell_id": "00014-4c4d67b6-6f76-492b-92d6-79ad758c6084",
        "deepnote_to_be_reexecuted": false,
        "source_hash": "e4eacc19",
        "execution_millis": 9,
        "execution_start": 1618799295917,
        "deepnote_cell_type": "code"
      },
      "outputs": [
        {
          "output_type": "execute_result",
          "execution_count": 21,
          "data": {
            "text/plain": "12565.0"
          },
          "metadata": {}
        }
      ],
      "execution_count": 21
    },
    {
      "cell_type": "code",
      "source": "# 11 - Calculate the different between the tuition of this observation and \n# the mean tuition off all observations calculated earlier.\n# Display the difference\ndifference=obs_tution-average_of_tutions\ndifference",
      "metadata": {
        "tags": [],
        "cell_id": "00015-6dac764f-c88e-4fdd-9560-9ea388705184",
        "deepnote_to_be_reexecuted": false,
        "source_hash": "a7c39874",
        "execution_millis": 10,
        "execution_start": 1618799299127,
        "deepnote_cell_type": "code"
      },
      "outputs": [
        {
          "output_type": "execute_result",
          "execution_count": 22,
          "data": {
            "text/plain": "20.18074792243715"
          },
          "metadata": {}
        }
      ],
      "execution_count": 22
    },
    {
      "cell_type": "code",
      "source": "# 12 - Repeat 10 to 11 several times get the feel of the size of the difference in means\ndef repeat_diff(dataFrame,avg,num):\n    for i in range(0,num):\n        ran_obs=random.randint(0,len(dataFrame))\n        obs_tution=dataFrame['TUITIONFEE_IN'].iloc[ran_obs]\n        difference=obs_tution-avg\n        print(difference)\n\n\nrepeat_diff(df,average_of_tutions,10)",
      "metadata": {
        "tags": [],
        "cell_id": "00016-8b16e36c-5c6d-423b-a839-37a1ff50e32f",
        "deepnote_to_be_reexecuted": false,
        "source_hash": "fceb3a91",
        "execution_millis": 14,
        "execution_start": 1618799302069,
        "deepnote_cell_type": "code"
      },
      "outputs": [
        {
          "name": "stdout",
          "text": "5455.180747922437\n-11024.819252077563\n4389.180747922437\n-11806.819252077563\n-6840.819252077563\n8595.180747922437\n7945.180747922437\n-7380.819252077563\n5503.180747922437\n-9434.819252077563\n",
          "output_type": "stream"
        }
      ],
      "execution_count": 23
    },
    {
      "cell_type": "code",
      "source": "# 13 - Randomly select 20 observations, display the tuition of these observation.\ndf1= df.sample(20)\ntution_20= df1[\"TUITIONFEE_IN\"]\ntution_20",
      "metadata": {
        "tags": [],
        "cell_id": "00017-d60db9b3-dbac-457e-9b35-61c3684583ec",
        "deepnote_to_be_reexecuted": false,
        "source_hash": "ac9e98e0",
        "execution_millis": 10,
        "execution_start": 1618799305839,
        "deepnote_cell_type": "code"
      },
      "outputs": [
        {
          "output_type": "execute_result",
          "execution_count": 24,
          "data": {
            "text/plain": "4932    10440.0\n2022    30489.0\n7309    10950.0\n338       764.0\n259     11232.0\n4391     6973.0\n4226     3566.0\n1286    12135.0\n3485     8058.0\n4733     7490.0\n293     22692.0\n3649     3506.0\n3431    24582.0\n429       816.0\n5720    14344.0\n451     17000.0\n3151     4470.0\n1659     7075.0\n2654    27740.0\n1214     2610.0\nName: TUITIONFEE_IN, dtype: float64"
          },
          "metadata": {}
        }
      ],
      "execution_count": 24
    },
    {
      "cell_type": "code",
      "source": "# 14 - Calculate and displat the mean tuition of these 20 observations\nmean_20= tution_20.mean()\nmean_20",
      "metadata": {
        "tags": [],
        "cell_id": "00018-363ec76c-8eda-45d7-9a6c-b1880f97ac30",
        "deepnote_to_be_reexecuted": false,
        "source_hash": "1ff5ba58",
        "execution_millis": 17,
        "execution_start": 1618799310205,
        "deepnote_cell_type": "code"
      },
      "outputs": [
        {
          "output_type": "execute_result",
          "execution_count": 25,
          "data": {
            "text/plain": "11346.6"
          },
          "metadata": {}
        }
      ],
      "execution_count": 25
    },
    {
      "cell_type": "code",
      "source": "# 15 - Calculate  the different between the average tuition of these 20 observations \n# and the mean tuition off all observations calculated earlier.\n# Display the difference\ndifference=average_of_tutions-mean_20\ndifference",
      "metadata": {
        "tags": [],
        "cell_id": "00019-830d52b3-bdf6-49f7-bf40-d314ddb585be",
        "deepnote_to_be_reexecuted": false,
        "source_hash": "16d7a74d",
        "execution_millis": 16,
        "execution_start": 1618799313847,
        "deepnote_cell_type": "code"
      },
      "outputs": [
        {
          "output_type": "execute_result",
          "execution_count": 26,
          "data": {
            "text/plain": "1198.2192520775625"
          },
          "metadata": {}
        }
      ],
      "execution_count": 26
    },
    {
      "cell_type": "code",
      "source": "\n# 16 - Repeat 13 to 15 several times and get the feel of the size of the difference in means \n# Compare these differences with the differences calculated earlier with just 1 observation\n# Describe your hunch/conclusion\nfor i in range(0,13):\n    df1= df.sample(20)\n    df1=df1.sample(1)\n    print (difference-df1[\"TUITIONFEE_IN\"].mean())\n",
      "metadata": {
        "tags": [],
        "cell_id": "00019-a3ec3c79-9cca-4ce6-9e3a-b10ab777668d",
        "deepnote_to_be_reexecuted": false,
        "source_hash": "c4589774",
        "execution_millis": 56,
        "execution_start": 1618799316471,
        "deepnote_cell_type": "code"
      },
      "outputs": [
        {
          "name": "stdout",
          "text": "-10576.780747922438\n-18426.780747922436\n-12681.780747922438\n-4689.7807479224375\n-4120.7807479224375\n-2179.7807479224375\n-13129.780747922438\n-3973.7807479224375\n-3742.7807479224375\n-2207.7807479224375\n-505.7807479224375\n-13201.780747922438\n-39004.780747922436\n",
          "output_type": "stream"
        }
      ],
      "execution_count": 27
    },
    {
      "cell_type": "code",
      "source": "# 17 - write function Code here\ndef sam_difference(x,y):\n    y1=y.sample(x)\n    mean_all=y['TUITIONFEE_IN'].mean()\n    mean_sample=y1['TUITIONFEE_IN'].mean()\n    diff_means=mean_all-mean_sample\n    return diff_means",
      "metadata": {
        "tags": [],
        "cell_id": "00020-14670822-2640-413f-bd4b-342d6695d576",
        "deepnote_to_be_reexecuted": false,
        "source_hash": "5e59d7d0",
        "execution_millis": 6,
        "execution_start": 1618799320520,
        "deepnote_cell_type": "code"
      },
      "outputs": [],
      "execution_count": 28
    },
    {
      "cell_type": "code",
      "source": "# 18 - test the function by passing a sample size and the name of the dataframe\r\n# Dsplay the return of the function\r\nsam_difference(10,df)",
      "metadata": {
        "tags": [],
        "cell_id": "00021-9afc4e5a-6f82-45d6-a200-74eeb162ec21",
        "deepnote_to_be_reexecuted": false,
        "source_hash": "7018364c",
        "execution_millis": 8,
        "execution_start": 1618799323485,
        "deepnote_cell_type": "code"
      },
      "outputs": [
        {
          "output_type": "execute_result",
          "execution_count": 29,
          "data": {
            "text/plain": "-422.3807479224379"
          },
          "metadata": {}
        }
      ],
      "execution_count": 29
    },
    {
      "cell_type": "code",
      "source": "# 19 - Create a list of sequence numbers from 1 to 50, name it \"sample_sizes\";\r\n# display it to make sure its members are from 1 to 50\r\nsample_sizes=[i for i in range(1,51)]",
      "metadata": {
        "tags": [],
        "cell_id": "00022-887f2702-96f3-4987-b965-00d1fdf287f5",
        "deepnote_to_be_reexecuted": false,
        "source_hash": "72f5ba73",
        "execution_millis": 4,
        "execution_start": 1618799325968,
        "deepnote_cell_type": "code"
      },
      "outputs": [],
      "execution_count": 30
    },
    {
      "cell_type": "code",
      "source": "sample_sizes",
      "metadata": {
        "tags": [],
        "cell_id": "00023-95d67011-fb8e-4e1c-861e-77f159592ee3",
        "deepnote_to_be_reexecuted": false,
        "source_hash": "5b62eb00",
        "execution_millis": 7,
        "execution_start": 1618799330781,
        "deepnote_cell_type": "code"
      },
      "outputs": [
        {
          "output_type": "execute_result",
          "execution_count": 32,
          "data": {
            "text/plain": "[1,\n 2,\n 3,\n 4,\n 5,\n 6,\n 7,\n 8,\n 9,\n 10,\n 11,\n 12,\n 13,\n 14,\n 15,\n 16,\n 17,\n 18,\n 19,\n 20,\n 21,\n 22,\n 23,\n 24,\n 25,\n 26,\n 27,\n 28,\n 29,\n 30,\n 31,\n 32,\n 33,\n 34,\n 35,\n 36,\n 37,\n 38,\n 39,\n 40,\n 41,\n 42,\n 43,\n 44,\n 45,\n 46,\n 47,\n 48,\n 49,\n 50]"
          },
          "metadata": {}
        }
      ],
      "execution_count": 32
    },
    {
      "cell_type": "code",
      "source": "# 20 - Create an empty list and name it \"means_diff\" for differences of population mean and sample means;\n# Loop through the list sample_sizes:\n# For each element in the sample size list, obtain a random sample of that size from the data frame;\n# Calculate the sample mean \n# Calculate the difference between the population mean and the sample mean\n# Append the difference to the list \"means_diff\"\n# Display the list \"means_diff\" after the loop is completed\nmeans_diff=[]\nfor each in sample_sizes:\n    means_diff.append(sam_difference(each,df))\nprint(means_diff)\n\n",
      "metadata": {
        "tags": [],
        "cell_id": "00024-ab4207df-90c6-42a6-b3c2-8103578db608",
        "deepnote_to_be_reexecuted": false,
        "source_hash": "687f9154",
        "execution_millis": 48,
        "execution_start": 1618799342112,
        "deepnote_cell_type": "code"
      },
      "outputs": [
        {
          "name": "stdout",
          "text": "[10354.819252077563, -9089.180747922437, 8782.152585410897, 6184.819252077563, 1684.6192520775621, -189.3474145891032, 3080.533537791849, 141.44425207756285, -3247.9585257002145, 1981.9192520775632, -570.2716570133471, 2101.985918744229, -2072.719209460898, 1593.533537791849, 958.2192520775625, 1978.6942520775629, 2681.7604285481502, -2098.2918590335485, 1541.7666204986162, -3729.580747922437, -493.41884316053256, 409.4556157139268, -1994.1372696615672, -987.5557479224371, 238.45925207756227, 615.0115597698714, 3751.152585410897, 590.9621092204197, 3559.2675279396317, 1808.78591874423, 1157.6579617549814, 848.7567520775629, -504.8474145891032, -2222.09251262832, 1494.9906806489907, 3287.3748076331176, -1200.1266938683839, -277.5754847645421, 2630.4346366929476, 1493.7692520775636, -379.6929430443888, 4579.509728268039, 1865.842507891517, 443.75107025938087, 1358.5303631886745, 711.3409912079969, 585.0958478222437, -254.8474145891032, 397.8396602408284, 1799.279252077562]\n",
          "output_type": "stream"
        }
      ],
      "execution_count": 34
    },
    {
      "cell_type": "code",
      "source": "\n# 21 - Make a scatter plot with sample size on the x-axs and  mean difference on the y-axis\n# Observe as the sample size increases, the sample means converge to the population mean.\n# Make sure you make the plot large enough\nplt.scatter(sample_sizes,means_diff)",
      "metadata": {
        "tags": [],
        "cell_id": "00025-bb4200ab-2485-4ce9-8669-d6b8c3a1bf27",
        "deepnote_to_be_reexecuted": false,
        "source_hash": "9fa6d0c0",
        "execution_millis": 249,
        "execution_start": 1618799343987,
        "deepnote_cell_type": "code"
      },
      "outputs": [
        {
          "output_type": "execute_result",
          "execution_count": 35,
          "data": {
            "text/plain": "<matplotlib.collections.PathCollection at 0x7f5c9d5c8710>"
          },
          "metadata": {}
        },
        {
          "data": {
            "text/plain": "<Figure size 432x288 with 1 Axes>",
            "image/png": "[encoded data removed]"
          },
          "metadata": {
            "needs_background": "light"
          },
          "output_type": "display_data"
        }
      ],
      "execution_count": 35
    },
    {
      "cell_type": "code",
      "source": "# 22 - repeat 18 to 21 by replacing 50 with a larger number. For example, 300, or even 1000.\n# and see how the plot looks.\nfor i in range(1,20):\n    sample_sizes=[i for i in range(1,200)]\n    means_diff=[]\n    for each in sample_sizes:\n        means_diff.append(sam_difference(each,df))\n    plt.scatter(sample_sizes,means_diff)\n\n",
      "metadata": {
        "tags": [],
        "cell_id": "00026-eec74d2f-d85a-49c6-a516-70371cfefd51",
        "deepnote_to_be_reexecuted": false,
        "source_hash": "5edff6fd",
        "execution_millis": 3435,
        "execution_start": 1618799345636,
        "deepnote_cell_type": "code"
      },
      "outputs": [
        {
          "data": {
            "text/plain": "<Figure size 432x288 with 1 Axes>",
            "image/png": "[encoded data removed]"
          },
          "metadata": {
            "needs_background": "light"
          },
          "output_type": "display_data"
        }
      ],
      "execution_count": 36
    },
    {
      "cell_type": "code",
      "source": "",
      "metadata": {
        "tags": [],
        "cell_id": "00027-52104729-b15f-4bf4-bd65-b54c35b7f24b",
        "deepnote_to_be_reexecuted": true,
        "source_hash": "b623e53d",
        "deepnote_cell_type": "code"
      },
      "outputs": [],
      "execution_count": null
    },
    {
      "cell_type": "markdown",
      "source": "<a style='text-decoration:none;line-height:16px;display:flex;color:#5B5B62;padding:10px;justify-content:end;' href='https://deepnote.com?utm_source=created-in-deepnote-cell&projectId=43ddcf5a-71e0-442c-9638-b8aeb031504b' target=\"_blank\">\n<img alt='Created in deepnote.com' style='display:inline;max-height:16px;margin:0px;margin-right:7.5px;' src='data:image/svg+xml;base64,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' > </img>\nCreated in <span style='font-weight:600;margin-left:4px;'>Deepnote</span></a>",
      "metadata": {
        "tags": [],
        "created_in_deepnote_cell": true,
        "deepnote_cell_type": "markdown"
      }
    }
  ],
  "nbformat": 4,
  "nbformat_minor": 2,
  "metadata": {
    "orig_nbformat": 2,
    "deepnote": {
      "is_reactive": false
    },
    "deepnote_notebook_id": "1bf0add0-0a49-4300-9d7d-8f9b57f55945",
    "deepnote_execution_queue": []
  }
}