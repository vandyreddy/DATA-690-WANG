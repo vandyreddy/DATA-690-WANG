{
 "cells": [
  {
   "cell_type": "markdown",
   "metadata": {},
   "source": [
    "1.Print them in a 10 by 10 matrix neatly arranged like the following (one space between each number):"
   ]
  },
  {
   "cell_type": "code",
   "execution_count": 4,
   "metadata": {},
   "outputs": [],
   "source": [
    "import random"
   ]
  },
  {
   "cell_type": "code",
   "execution_count": 5,
   "metadata": {},
   "outputs": [],
   "source": [
    "row=[]\n",
    "rows=[]\n",
    "for j in range(0,10):\n",
    "    for i in range(0,10):\n",
    "        row.append(random.randint(0,9))\n",
    "    rows.append(row)"
   ]
  },
  {
   "cell_type": "code",
   "execution_count": 16,
   "metadata": {
    "scrolled": true
   },
   "outputs": [],
   "source": [
    "randnum=[]\n",
    "for i in range(0,100):\n",
    "    randnum.append(random.randint(0,9))\n",
    "    "
   ]
  },
  {
   "cell_type": "code",
   "execution_count": 23,
   "metadata": {},
   "outputs": [
    {
     "name": "stdout",
     "output_type": "stream",
     "text": [
      "7 2 0 4 7 0 4 3 4 4\n",
      "5 7 6 1 8 5 3 0 9 9\n",
      "6 3 4 2 4 1 1 6 8 8\n",
      "1 9 8 0 6 7 2 7 9 9\n",
      "9 5 0 8 5 0 1 1 4 4\n",
      "4 7 4 2 7 5 1 7 9 9\n",
      "1 7 0 8 5 6 2 3 2 2\n",
      "0 2 0 8 1 8 4 9 2 2\n",
      "9 1 7 6 4 1 1 0 2 2\n",
      "4 3 1 5 2 5 6 8 7 7\n"
     ]
    }
   ],
   "source": [
    "count=0\n",
    "for i in randnum:\n",
    "    if count%10!=0:\n",
    "        print(i, end=\" \")\n",
    "    count= count+1\n",
    "    if (count%10==0):\n",
    "        print(i,end=\"\\n\")"
   ]
  },
  {
   "cell_type": "markdown",
   "metadata": {},
   "source": [
    "2.If the random number is an odd number, print \"@\" instead"
   ]
  },
  {
   "cell_type": "code",
   "execution_count": 19,
   "metadata": {},
   "outputs": [],
   "source": [
    "def isPrime(n):\n",
    "    for j in range(2,n):\n",
    "        if n%j==0 :\n",
    "            return False\n",
    "    return True  "
   ]
  },
  {
   "cell_type": "code",
   "execution_count": 25,
   "metadata": {},
   "outputs": [
    {
     "name": "stdout",
     "output_type": "stream",
     "text": [
      "@ @ @ @ 4 @ @ 4 @ 4 \n",
      "8 @ @ 6 @ 8 @ @ @ 9 \n",
      "@ 6 @ 4 @ 4 @ @ 6 8 \n",
      "6 @ 9 8 @ 6 @ @ @ 9 \n",
      "4 9 @ @ 8 @ @ @ @ 4 \n",
      "@ 4 @ 4 @ @ @ @ @ 9 \n",
      "9 @ @ @ 8 @ 6 @ @ @ \n",
      "@ @ @ @ 8 @ 8 4 9 @ \n",
      "@ 9 @ @ 6 4 @ @ @ @ \n",
      "9 4 @ @ @ @ @ 6 8 @ \n"
     ]
    }
   ],
   "source": [
    "count=0\n",
    "for i in randnum:\n",
    "    if (isPrime(int(i))):\n",
    "        print('@', end=\" \")\n",
    "    else:\n",
    "        print(i,end=\" \")\n",
    "    count= count+1\n",
    "    if (count%10==0):\n",
    "        print(\"\\n\")"
   ]
  },
  {
   "cell_type": "markdown",
   "metadata": {},
   "source": [
    "3.Calculate and Print the total of each row like the following (use \"*\" to separate the total from the numbers):"
   ]
  },
  {
   "cell_type": "code",
   "execution_count": 27,
   "metadata": {},
   "outputs": [
    {
     "name": "stdout",
     "output_type": "stream",
     "text": [
      "1 7 2 0 4 7 0 4 3 4 * 32\n",
      "8 5 7 6 1 8 5 3 0 9 * 52\n",
      "3 6 3 4 2 4 1 1 6 8 * 38\n",
      "6 1 9 8 0 6 7 2 7 9 * 55\n",
      "4 9 5 0 8 5 0 1 1 4 * 37\n",
      "2 4 7 4 2 7 5 1 7 9 * 48\n",
      "9 1 7 0 8 5 6 2 3 2 * 43\n",
      "2 0 2 0 8 1 8 4 9 2 * 36\n",
      "3 9 1 7 6 4 1 1 0 2 * 34\n",
      "9 4 3 1 5 2 5 6 8 7 * 50\n"
     ]
    }
   ],
   "source": [
    "count=0\n",
    "total=0\n",
    "for i in randnum:\n",
    "    print(i, end=\" \")\n",
    "    total= total+i\n",
    "    count= count+1\n",
    "    if (count%10==0):\n",
    "        print(\"* \"+str(total), end=\"\\n\")\n",
    "        total=0"
   ]
  },
  {
   "cell_type": "code",
   "execution_count": null,
   "metadata": {},
   "outputs": [],
   "source": []
  },
  {
   "cell_type": "code",
   "execution_count": null,
   "metadata": {},
   "outputs": [],
   "source": []
  },
  {
   "cell_type": "code",
   "execution_count": null,
   "metadata": {},
   "outputs": [],
   "source": []
  }
 ],
 "metadata": {
  "kernelspec": {
   "display_name": "Python 3",
   "language": "python",
   "name": "python3"
  },
  "language_info": {
   "codemirror_mode": {
    "name": "ipython",
    "version": 3
   },
   "file_extension": ".py",
   "mimetype": "text/x-python",
   "name": "python",
   "nbconvert_exporter": "python",
   "pygments_lexer": "ipython3",
   "version": "3.7.6"
  }
 },
 "nbformat": 4,
 "nbformat_minor": 4
}
