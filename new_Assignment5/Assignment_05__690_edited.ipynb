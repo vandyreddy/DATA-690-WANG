{
 "cells": [
  {
   "cell_type": "code",
   "execution_count": 2,
   "metadata": {},
   "outputs": [],
   "source": [
    "with open('census_cost.txt','r') as f:\n",
    "  line_list = f.readlines()"
   ]
  },
  {
   "cell_type": "code",
   "execution_count": 3,
   "metadata": {
    "scrolled": true
   },
   "outputs": [
    {
     "data": {
      "text/plain": [
       "['Source: https://www.genealogybranches.com/censuscosts.html\\n',\n",
       " 'Census Year\\tTotal Population\\tCensus Cost\\tAverage Cost Per Person\\n',\n",
       " '1790\\t3,929,214\\t$44,377\\t1.13 cents\\n',\n",
       " '1800\\t5,308,483\\t$66,109\\t1.24 cents\\n',\n",
       " '1810\\t7,239,881\\t$178,445\\t2.46 cents\\n',\n",
       " '1820\\t9,633,822\\t$208,526\\t2.16 cents\\n',\n",
       " '1830\\t12,866,020\\t$378,545\\t2.94 cents\\n',\n",
       " '1840\\t17,069,458\\t$833,371\\t4.88 cents\\n',\n",
       " '1850\\t23,191,876\\t$1,423,351\\t6.14 cents\\n',\n",
       " '1860\\t31,443,321\\t$1,969,377\\t6.26 cents\\n',\n",
       " '1870\\t38,558,371\\t$3,421,198\\t8.87 cents\\n',\n",
       " '1880\\t50,155,783\\t$5,790,678\\t11.54 cents\\n',\n",
       " '1890\\t62,979,766\\t$11,547,127\\t18.33 cents\\n',\n",
       " '1900\\t76,303,387\\t$11,854,000\\t15.54 cents\\n',\n",
       " '1910\\t91,972,266\\t$15,968,000\\t17.07 cents\\n',\n",
       " '1920\\t105,710,620\\t$25,117,000\\t23.76 cents\\n',\n",
       " '1930\\t122,775,046\\t$40,156,000\\t32.71 cents\\n',\n",
       " '1940\\t131,669,275\\t$67,527,000\\t51.29 cents\\n',\n",
       " '1950\\t151,325,798\\t$91,462,000\\t60.44 cents\\n',\n",
       " '1960\\t179,323,175\\t$127,934,000\\t71.34 cents\\n',\n",
       " '1970\\t203,302,031\\t$247,653,000\\t$1.22\\n',\n",
       " '1980\\t226,542,199\\t$1,078,488,000\\t$4.76\\n',\n",
       " '1990\\t248,718,301\\t$2,492,830,000\\t$10.02\\n',\n",
       " '2000\\t281,421,906\\t$4.5 Billion\\t$15.99\\n',\n",
       " '2010*\\t308,745,538\\t$13 Billion\\t$42.11']"
      ]
     },
     "execution_count": 3,
     "metadata": {},
     "output_type": "execute_result"
    }
   ],
   "source": [
    "line_list"
   ]
  },
  {
   "cell_type": "code",
   "execution_count": 78,
   "metadata": {},
   "outputs": [
    {
     "name": "stdout",
     "output_type": "stream",
     "text": [
      "['Source: https://www.genealogybranches.com/censuscosts.html', 'Census Year,Total Population,Census Cost,Average Cost Per Person']\n"
     ]
    }
   ],
   "source": [
    "l2_list = line_list[:2]\n",
    "top2_list=[]\n",
    "for i in l2_list:\n",
    "    line = i.split('\\n')\n",
    "    top2_list.append((line[0]).replace(\"\\t\",\",\"))\n",
    "    \n",
    "print(top2_list)"
   ]
  },
  {
   "cell_type": "code",
   "execution_count": 5,
   "metadata": {},
   "outputs": [
    {
     "data": {
      "text/plain": [
       "['1790\\t3,929,214\\t$44,377\\t1.13 cents\\n',\n",
       " '1800\\t5,308,483\\t$66,109\\t1.24 cents\\n',\n",
       " '1810\\t7,239,881\\t$178,445\\t2.46 cents\\n',\n",
       " '1820\\t9,633,822\\t$208,526\\t2.16 cents\\n',\n",
       " '1830\\t12,866,020\\t$378,545\\t2.94 cents\\n',\n",
       " '1840\\t17,069,458\\t$833,371\\t4.88 cents\\n',\n",
       " '1850\\t23,191,876\\t$1,423,351\\t6.14 cents\\n',\n",
       " '1860\\t31,443,321\\t$1,969,377\\t6.26 cents\\n',\n",
       " '1870\\t38,558,371\\t$3,421,198\\t8.87 cents\\n',\n",
       " '1880\\t50,155,783\\t$5,790,678\\t11.54 cents\\n',\n",
       " '1890\\t62,979,766\\t$11,547,127\\t18.33 cents\\n',\n",
       " '1900\\t76,303,387\\t$11,854,000\\t15.54 cents\\n',\n",
       " '1910\\t91,972,266\\t$15,968,000\\t17.07 cents\\n',\n",
       " '1920\\t105,710,620\\t$25,117,000\\t23.76 cents\\n',\n",
       " '1930\\t122,775,046\\t$40,156,000\\t32.71 cents\\n',\n",
       " '1940\\t131,669,275\\t$67,527,000\\t51.29 cents\\n',\n",
       " '1950\\t151,325,798\\t$91,462,000\\t60.44 cents\\n',\n",
       " '1960\\t179,323,175\\t$127,934,000\\t71.34 cents\\n',\n",
       " '1970\\t203,302,031\\t$247,653,000\\t$1.22\\n',\n",
       " '1980\\t226,542,199\\t$1,078,488,000\\t$4.76\\n',\n",
       " '1990\\t248,718,301\\t$2,492,830,000\\t$10.02\\n',\n",
       " '2000\\t281,421,906\\t$4.5 Billion\\t$15.99\\n',\n",
       " '2010*\\t308,745,538\\t$13 Billion\\t$42.11']"
      ]
     },
     "execution_count": 5,
     "metadata": {},
     "output_type": "execute_result"
    }
   ],
   "source": [
    "data_list = line_list[2:]\n",
    "data_list"
   ]
  },
  {
   "cell_type": "code",
   "execution_count": 6,
   "metadata": {},
   "outputs": [
    {
     "name": "stdout",
     "output_type": "stream",
     "text": [
      "['1790', '1800', '1810', '1820', '1830', '1840', '1850', '1860', '1870', '1880', '1890', '1900', '1910', '1920', '1930', '1940', '1950', '1960', '1970', '1980', '1990', '2000', '2010']\n"
     ]
    }
   ],
   "source": [
    "year_list = []\n",
    "for i in data_list:\n",
    "    row = i.split('\\t')\n",
    "    year_list.append((row[0]).replace(\"*\",\"\"))\n",
    "    \n",
    "print(year_list)"
   ]
  },
  {
   "cell_type": "code",
   "execution_count": 7,
   "metadata": {},
   "outputs": [
    {
     "name": "stdout",
     "output_type": "stream",
     "text": [
      "['3929214', '5308483', '7239881', '9633822', '12866020', '17069458', '23191876', '31443321', '38558371', '50155783', '62979766', '76303387', '91972266', '105710620', '122775046', '131669275', '151325798', '179323175', '203302031', '226542199', '248718301', '281421906', '308745538']\n"
     ]
    }
   ],
   "source": [
    "pop_list  = []\n",
    "for i in data_list:\n",
    "    row = i.split('\\t')\n",
    "    pop_list.append((row[1]).replace(\",\",\"\"))\n",
    "    \n",
    "print(pop_list)"
   ]
  },
  {
   "cell_type": "code",
   "execution_count": 8,
   "metadata": {},
   "outputs": [
    {
     "name": "stdout",
     "output_type": "stream",
     "text": [
      "['44377', '66109', '178445', '208526', '378545', '833371', '1423351', '1969377', '3421198', '5790678', '11547127', '11854000', '15968000', '25117000', '40156000', '67527000', '91462000', '127934000', '247653000', '1078488000', '2492830000', '4500000000', '13000000000']\n"
     ]
    }
   ],
   "source": [
    "cost_list  = []\n",
    "for i in data_list:\n",
    "    row = i.split('\\t')\n",
    "    cost_list.append((row[2]).replace(\"$\",\"\").replace(\",\",\"\"))\n",
    "for i in range(0,len(cost_list)):\n",
    "    if 'Billion' in cost_list[i]:\n",
    "         cost_list[i] = cost_list[i].replace(\"Billion\",\"\")\n",
    "         cost_list[i]= float(cost_list[i])*(10**9)\n",
    "         cost_list[i]= str(int(cost_list[i]))\n",
    "        \n",
    "print(cost_list)"
   ]
  },
  {
   "cell_type": "code",
   "execution_count": 9,
   "metadata": {},
   "outputs": [
    {
     "name": "stdout",
     "output_type": "stream",
     "text": [
      "[0.0113, 0.0124, 0.0246, 0.0216, 0.0294, 0.048799999999999996, 0.061399999999999996, 0.0626, 0.08869999999999999, 0.11539999999999999, 0.1833, 0.15539999999999998, 0.1707, 0.2376, 0.3271, 0.5129, 0.6043999999999999, 0.7134, 1.22, 4.76, 10.02, 15.99, 42.11]\n"
     ]
    }
   ],
   "source": [
    "avg_list  = []\n",
    "for i in data_list:\n",
    "    line = i.split('\\t')\n",
    "    avg_list.append((line[3]).replace(\"$\",\"\").replace(\"\\t\",\"\").replace('\\n','').replace(\"'\",\"\"))\n",
    "for i in range(0,len(avg_list)):\n",
    "    if 'cents' in avg_list[i]:\n",
    "         avg_list[i] = avg_list[i].replace(\"cents\",\" \")\n",
    "         avg_list[i]= float(avg_list[i])/100\n",
    "         avg_list[i]= (float(avg_list[i]))\n",
    "    else:\n",
    "        avg_list[i]=float(avg_list[i])\n",
    "print(avg_list)"
   ]
  },
  {
   "cell_type": "code",
   "execution_count": 60,
   "metadata": {},
   "outputs": [
    {
     "name": "stdout",
     "output_type": "stream",
     "text": [
      "[('1790', '3929214', '44377', 0.0113), ('1800', '5308483', '66109', 0.0124), ('1810', '7239881', '178445', 0.0246), ('1820', '9633822', '208526', 0.0216), ('1830', '12866020', '378545', 0.0294), ('1840', '17069458', '833371', 0.048799999999999996), ('1850', '23191876', '1423351', 0.061399999999999996), ('1860', '31443321', '1969377', 0.0626), ('1870', '38558371', '3421198', 0.08869999999999999), ('1880', '50155783', '5790678', 0.11539999999999999), ('1890', '62979766', '11547127', 0.1833), ('1900', '76303387', '11854000', 0.15539999999999998), ('1910', '91972266', '15968000', 0.1707), ('1920', '105710620', '25117000', 0.2376), ('1930', '122775046', '40156000', 0.3271), ('1940', '131669275', '67527000', 0.5129), ('1950', '151325798', '91462000', 0.6043999999999999), ('1960', '179323175', '127934000', 0.7134), ('1970', '203302031', '247653000', 1.22), ('1980', '226542199', '1078488000', 4.76), ('1990', '248718301', '2492830000', 10.02), ('2000', '281421906', '4500000000', 15.99), ('2010', '308745538', '13000000000', 42.11)]\n"
     ]
    }
   ],
   "source": [
    "allrowList = zip(year_list,pop_list,cost_list,avg_list)\n",
    "finList=list(allrowList)\n",
    "print(finList)"
   ]
  },
  {
   "cell_type": "code",
   "execution_count": 79,
   "metadata": {},
   "outputs": [],
   "source": [
    "with open('census_cost.csv','w+') as file:\n",
    "        file.writelines([\"%s\\n\" % item  for item in top2_list])    \n",
    "        for miniList in finList:\n",
    "            for eachItem in miniList :\n",
    "                kk=str(eachItem)\n",
    "                file.write(kk + ',')\n",
    "            file.write('\\n')\n",
    "        "
   ]
  },
  {
   "cell_type": "code",
   "execution_count": 80,
   "metadata": {},
   "outputs": [
    {
     "name": "stdout",
     "output_type": "stream",
     "text": [
      "Source: https://www.genealogybranches.com/censuscosts.html\n",
      "Census Year,Total Population,Census Cost,Average Cost Per Person\n",
      "1790,3929214,44377,0.0113,\n",
      "1800,5308483,66109,0.0124,\n",
      "1810,7239881,178445,0.0246,\n",
      "1820,9633822,208526,0.0216,\n",
      "1830,12866020,378545,0.0294,\n",
      "1840,17069458,833371,0.048799999999999996,\n",
      "1850,23191876,1423351,0.061399999999999996,\n",
      "1860,31443321,1969377,0.0626,\n",
      "1870,38558371,3421198,0.08869999999999999,\n",
      "1880,50155783,5790678,0.11539999999999999,\n",
      "1890,62979766,11547127,0.1833,\n",
      "1900,76303387,11854000,0.15539999999999998,\n",
      "1910,91972266,15968000,0.1707,\n",
      "1920,105710620,25117000,0.2376,\n",
      "1930,122775046,40156000,0.3271,\n",
      "1940,131669275,67527000,0.5129,\n",
      "1950,151325798,91462000,0.6043999999999999,\n",
      "1960,179323175,127934000,0.7134,\n",
      "1970,203302031,247653000,1.22,\n",
      "1980,226542199,1078488000,4.76,\n",
      "1990,248718301,2492830000,10.02,\n",
      "2000,281421906,4500000000,15.99,\n",
      "2010,308745538,13000000000,42.11,\n",
      "\n"
     ]
    }
   ],
   "source": [
    "with open('census_cost.csv','r') as f:\n",
    "  print(f.read())"
   ]
  },
  {
   "cell_type": "code",
   "execution_count": null,
   "metadata": {},
   "outputs": [],
   "source": []
  },
  {
   "cell_type": "code",
   "execution_count": null,
   "metadata": {},
   "outputs": [],
   "source": []
  }
 ],
 "metadata": {
  "kernelspec": {
   "display_name": "Python 3",
   "language": "python",
   "name": "python3"
  },
  "language_info": {
   "codemirror_mode": {
    "name": "ipython",
    "version": 3
   },
   "file_extension": ".py",
   "mimetype": "text/x-python",
   "name": "python",
   "nbconvert_exporter": "python",
   "pygments_lexer": "ipython3",
   "version": "3.6.5"
  }
 },
 "nbformat": 4,
 "nbformat_minor": 4
}
