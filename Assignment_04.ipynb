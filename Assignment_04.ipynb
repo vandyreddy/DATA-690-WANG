{
 "cells": [
  {
   "cell_type": "code",
   "execution_count": 102,
   "metadata": {},
   "outputs": [
    {
     "name": "stdout",
     "output_type": "stream",
     "text": [
      "['Source: https://www.genealogybranches.com/censuscosts.html\\n', 'Census Year\\tTotal Population\\tCensus Cost\\tAverage Cost Per Person\\n', '1790\\t3,929,214\\t$44,377\\t1.13 cents\\n', '1800\\t5,308,483\\t$66,109\\t1.24 cents\\n', '1810\\t7,239,881\\t$178,445\\t2.46 cents\\n', '1820\\t9,633,822\\t$208,526\\t2.16 cents\\n', '1830\\t12,866,020\\t$378,545\\t2.94 cents\\n', '1840\\t17,069,458\\t$833,371\\t4.88 cents\\n', '1850\\t23,191,876\\t$1,423,351\\t6.14 cents\\n', '1860\\t31,443,321\\t$1,969,377\\t6.26 cents\\n', '1870\\t38,558,371\\t$3,421,198\\t8.87 cents\\n', '1880\\t50,155,783\\t$5,790,678\\t11.54 cents\\n', '1890\\t62,979,766\\t$11,547,127\\t18.33 cents\\n', '1900\\t76,303,387\\t$11,854,000\\t15.54 cents\\n', '1910\\t91,972,266\\t$15,968,000\\t17.07 cents\\n', '1920\\t105,710,620\\t$25,117,000\\t23.76 cents\\n', '1930\\t122,775,046\\t$40,156,000\\t32.71 cents\\n', '1940\\t131,669,275\\t$67,527,000\\t51.29 cents\\n', '1950\\t151,325,798\\t$91,462,000\\t60.44 cents\\n', '1960\\t179,323,175\\t$127,934,000\\t71.34 cents\\n', '1970\\t203,302,031\\t$247,653,000\\t$1.22\\n', '1980\\t226,542,199\\t$1,078,488,000\\t$4.76\\n', '1990\\t248,718,301\\t$2,492,830,000\\t$10.02\\n', '2000\\t281,421,906\\t$4.5 Billion\\t$15.99\\n', '2010*\\t308,745,538\\t$13 Billion\\t$42.11']\n"
     ]
    }
   ],
   "source": [
    "with open(\"census_cost.txt\",\"rt\") as f:\n",
    "    line_list=f.readlines()\n",
    "print(line_list)"
   ]
  },
  {
   "cell_type": "code",
   "execution_count": 103,
   "metadata": {},
   "outputs": [],
   "source": [
    "with open(\"outfile.txt\", \"w\") as outfile:\n",
    "    outfile.write(\"\\n\".join(new_list))\n"
   ]
  },
  {
   "cell_type": "code",
   "execution_count": 104,
   "metadata": {
    "scrolled": true
   },
   "outputs": [],
   "source": [
    "import pandas as pd\n",
    "df = pd.read_csv('outfile.txt',delimiter=\"\\t\")"
   ]
  },
  {
   "cell_type": "code",
   "execution_count": 105,
   "metadata": {
    "scrolled": true
   },
   "outputs": [
    {
     "name": "stdout",
     "output_type": "stream",
     "text": [
      "['Source: https://www.genealogybranches.com/censuscosts.html\\n', 'Census Year\\tTotal Population\\tCensus Cost\\tAverage Cost Per Person\\n']\n"
     ]
    }
   ],
   "source": [
    "top2_list=line_list[:2]\n",
    "print(top2_list)"
   ]
  },
  {
   "cell_type": "code",
   "execution_count": 106,
   "metadata": {
    "scrolled": true
   },
   "outputs": [
    {
     "name": "stdout",
     "output_type": "stream",
     "text": [
      "['1790\\t3,929,214\\t$44,377\\t1.13 cents\\n', '1800\\t5,308,483\\t$66,109\\t1.24 cents\\n', '1810\\t7,239,881\\t$178,445\\t2.46 cents\\n', '1820\\t9,633,822\\t$208,526\\t2.16 cents\\n', '1830\\t12,866,020\\t$378,545\\t2.94 cents\\n', '1840\\t17,069,458\\t$833,371\\t4.88 cents\\n', '1850\\t23,191,876\\t$1,423,351\\t6.14 cents\\n', '1860\\t31,443,321\\t$1,969,377\\t6.26 cents\\n', '1870\\t38,558,371\\t$3,421,198\\t8.87 cents\\n', '1880\\t50,155,783\\t$5,790,678\\t11.54 cents\\n', '1890\\t62,979,766\\t$11,547,127\\t18.33 cents\\n', '1900\\t76,303,387\\t$11,854,000\\t15.54 cents\\n', '1910\\t91,972,266\\t$15,968,000\\t17.07 cents\\n', '1920\\t105,710,620\\t$25,117,000\\t23.76 cents\\n', '1930\\t122,775,046\\t$40,156,000\\t32.71 cents\\n', '1940\\t131,669,275\\t$67,527,000\\t51.29 cents\\n', '1950\\t151,325,798\\t$91,462,000\\t60.44 cents\\n', '1960\\t179,323,175\\t$127,934,000\\t71.34 cents\\n', '1970\\t203,302,031\\t$247,653,000\\t$1.22\\n', '1980\\t226,542,199\\t$1,078,488,000\\t$4.76\\n', '1990\\t248,718,301\\t$2,492,830,000\\t$10.02\\n', '2000\\t281,421,906\\t$4.5 Billion\\t$15.99\\n', '2010*\\t308,745,538\\t$13 Billion\\t$42.11']\n"
     ]
    }
   ],
   "source": [
    "data_list=line_list[2:]\n",
    "print(data_list)"
   ]
  },
  {
   "cell_type": "code",
   "execution_count": 107,
   "metadata": {},
   "outputs": [],
   "source": [
    "import pandas as pd\n",
    "df = pd.read_csv('outfile.txt',delimiter=\"\\t\",)"
   ]
  },
  {
   "cell_type": "code",
   "execution_count": 108,
   "metadata": {
    "scrolled": true
   },
   "outputs": [
    {
     "name": "stdout",
     "output_type": "stream",
     "text": [
      "0     1790\n",
      "1     1800\n",
      "2     1810\n",
      "3     1820\n",
      "4     1830\n",
      "5     1840\n",
      "6     1850\n",
      "7     1860\n",
      "8     1870\n",
      "9     1880\n",
      "10    1890\n",
      "11    1900\n",
      "12    1910\n",
      "13    1920\n",
      "14    1930\n",
      "15    1940\n",
      "16    1950\n",
      "17    1960\n",
      "18    1970\n",
      "19    1980\n",
      "20    1990\n",
      "21    2000\n",
      "22    2010\n",
      "Name: Census Year, dtype: int32\n"
     ]
    }
   ],
   "source": [
    "year_list=df['Census Year'].str.replace(\"*\",\" \").astype(int)\n",
    "print(year_list)"
   ]
  },
  {
   "cell_type": "code",
   "execution_count": 109,
   "metadata": {},
   "outputs": [
    {
     "name": "stdout",
     "output_type": "stream",
     "text": [
      "0       3929214\n",
      "1       5308483\n",
      "2       7239881\n",
      "3       9633822\n",
      "4      12866020\n",
      "5      17069458\n",
      "6      23191876\n",
      "7      31443321\n",
      "8      38558371\n",
      "9      50155783\n",
      "10     62979766\n",
      "11     76303387\n",
      "12     91972266\n",
      "13    105710620\n",
      "14    122775046\n",
      "15    131669275\n",
      "16    151325798\n",
      "17    179323175\n",
      "18    203302031\n",
      "19    226542199\n",
      "20    248718301\n",
      "21    281421906\n",
      "22    308745538\n",
      "Name: Total Population, dtype: int32\n"
     ]
    }
   ],
   "source": [
    " df[\"Total Population\"] = df[\"Total Population\"].str.replace(\",\",\"\").astype(int)\n",
    "pop_list=df[\"Total Population\"]\n",
    "print(pop_list)"
   ]
  },
  {
   "cell_type": "code",
   "execution_count": 110,
   "metadata": {},
   "outputs": [],
   "source": [
    " df[\"Census Year\"] = df[\"Census Year\"].str.replace(\"*\",\"\")"
   ]
  },
  {
   "cell_type": "code",
   "execution_count": 111,
   "metadata": {},
   "outputs": [
    {
     "data": {
      "text/plain": [
       "0            $44,377\n",
       "1            $66,109\n",
       "2           $178,445\n",
       "3           $208,526\n",
       "4           $378,545\n",
       "5           $833,371\n",
       "6         $1,423,351\n",
       "7         $1,969,377\n",
       "8         $3,421,198\n",
       "9         $5,790,678\n",
       "10       $11,547,127\n",
       "11       $11,854,000\n",
       "12       $15,968,000\n",
       "13       $25,117,000\n",
       "14       $40,156,000\n",
       "15       $67,527,000\n",
       "16       $91,462,000\n",
       "17      $127,934,000\n",
       "18      $247,653,000\n",
       "19    $1,078,488,000\n",
       "20    $2,492,830,000\n",
       "21      $4.5 Billion\n",
       "22       $13 Billion\n",
       "Name: Census Cost, dtype: object"
      ]
     },
     "execution_count": 111,
     "metadata": {},
     "output_type": "execute_result"
    }
   ],
   "source": [
    "df['Census Cost']"
   ]
  },
  {
   "cell_type": "code",
   "execution_count": 112,
   "metadata": {},
   "outputs": [],
   "source": [
    "df['Census Cost'] = df['Census Cost'].str.replace(',', '')\n",
    "df['Census Cost'] = df['Census Cost'].str.replace('$', '')"
   ]
  },
  {
   "cell_type": "code",
   "execution_count": 113,
   "metadata": {},
   "outputs": [
    {
     "name": "stdout",
     "output_type": "stream",
     "text": [
      "0          44377\n",
      "1          66109\n",
      "2         178445\n",
      "3         208526\n",
      "4         378545\n",
      "5         833371\n",
      "6        1423351\n",
      "7        1969377\n",
      "8        3421198\n",
      "9        5790678\n",
      "10      11547127\n",
      "11      11854000\n",
      "12      15968000\n",
      "13      25117000\n",
      "14      40156000\n",
      "15      67527000\n",
      "16      91462000\n",
      "17     127934000\n",
      "18     247653000\n",
      "19    1078488000\n",
      "20   -1802137296\n",
      "21   -2147483648\n",
      "22     115098112\n",
      "Name: Census Cost, dtype: int32\n"
     ]
    }
   ],
   "source": [
    "df['Census Cost']=df['Census Cost'].replace({'Billion': '*10**9'},regex=True).map(pd.eval).astype(int)\n",
    "cost_list=df['Census Cost']\n",
    "print(cost_list)"
   ]
  },
  {
   "cell_type": "code",
   "execution_count": 114,
   "metadata": {
    "scrolled": true
   },
   "outputs": [],
   "source": [
    "df['Average Cost Per Person'] = df['Average Cost Per Person'].str.replace('$', '')"
   ]
  },
  {
   "cell_type": "code",
   "execution_count": 115,
   "metadata": {},
   "outputs": [
    {
     "name": "stdout",
     "output_type": "stream",
     "text": [
      "0      0.0113\n",
      "1      0.0124\n",
      "2      0.0246\n",
      "3      0.0216\n",
      "4      0.0294\n",
      "5      0.0488\n",
      "6      0.0614\n",
      "7      0.0626\n",
      "8      0.0887\n",
      "9      0.1154\n",
      "10     0.1833\n",
      "11     0.1554\n",
      "12     0.1707\n",
      "13     0.2376\n",
      "14     0.3271\n",
      "15     0.5129\n",
      "16     0.6044\n",
      "17     0.7134\n",
      "18     1.2200\n",
      "19     4.7600\n",
      "20    10.0200\n",
      "21    15.9900\n",
      "22    42.1100\n",
      "Name: Average Cost Per Person, dtype: float64\n"
     ]
    }
   ],
   "source": [
    "df['Average Cost Per Person']=df['Average Cost Per Person'].replace({'cents': '*10**-2'},regex=True).map(pd.eval).astype(float)\n",
    "avg_list=df['Average Cost Per Person']\n",
    "print(avg_list)"
   ]
  },
  {
   "cell_type": "code",
   "execution_count": 116,
   "metadata": {},
   "outputs": [],
   "source": [
    "with open(\"census_cost.csv\", \"w\") as outfile:\n",
    "    outfile.write(''.join(top2_list))"
   ]
  },
  {
   "cell_type": "code",
   "execution_count": 117,
   "metadata": {},
   "outputs": [],
   "source": [
    "df.to_csv('census_cost.csv',mode='a',header=None)"
   ]
  },
  {
   "cell_type": "code",
   "execution_count": 122,
   "metadata": {},
   "outputs": [
    {
     "name": "stdout",
     "output_type": "stream",
     "text": [
      "['Source: https://www.genealogybranches.com/censuscosts.html\\n', 'Census Year\\tTotal Population\\tCensus Cost\\tAverage Cost Per Person\\n', '0,1790,3929214,44377,0.0113\\n', '1,1800,5308483,66109,0.0124\\n', '2,1810,7239881,178445,0.0246\\n', '3,1820,9633822,208526,0.0216\\n', '4,1830,12866020,378545,0.0294\\n', '5,1840,17069458,833371,0.0488\\n', '6,1850,23191876,1423351,0.061399999999999996\\n', '7,1860,31443321,1969377,0.0626\\n', '8,1870,38558371,3421198,0.08869999999999999\\n', '9,1880,50155783,5790678,0.11539999999999999\\n', '10,1890,62979766,11547127,0.1833\\n', '11,1900,76303387,11854000,0.15539999999999998\\n', '12,1910,91972266,15968000,0.17070000000000002\\n', '13,1920,105710620,25117000,0.23760000000000003\\n', '14,1930,122775046,40156000,0.3271\\n', '15,1940,131669275,67527000,0.5129\\n', '16,1950,151325798,91462000,0.6043999999999999\\n', '17,1960,179323175,127934000,0.7134\\n', '18,1970,203302031,247653000,1.22\\n', '19,1980,226542199,1078488000,4.76\\n', '20,1990,248718301,-1802137296,10.02\\n', '21,2000,281421906,-2147483648,15.99\\n', '22,2010,308745538,115098112,42.11\\n']\n"
     ]
    }
   ],
   "source": [
    "with open(\"census_cost.csv\",\"rt\") as k:\n",
    "    print(k.readlines())"
   ]
  },
  {
   "cell_type": "code",
   "execution_count": null,
   "metadata": {},
   "outputs": [],
   "source": []
  }
 ],
 "metadata": {
  "kernelspec": {
   "display_name": "Python 3",
   "language": "python",
   "name": "python3"
  },
  "language_info": {
   "codemirror_mode": {
    "name": "ipython",
    "version": 3
   },
   "file_extension": ".py",
   "mimetype": "text/x-python",
   "name": "python",
   "nbconvert_exporter": "python",
   "pygments_lexer": "ipython3",
   "version": "3.7.6"
  }
 },
 "nbformat": 4,
 "nbformat_minor": 4
}
